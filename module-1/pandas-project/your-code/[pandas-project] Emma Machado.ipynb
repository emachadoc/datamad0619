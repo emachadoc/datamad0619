{
 "cells": [
  {
   "cell_type": "code",
   "execution_count": 1,
   "metadata": {},
   "outputs": [],
   "source": [
    "import pandas as pd\n",
    "import numpy as np\n",
    "import re\n",
    "import statistics"
   ]
  },
  {
   "cell_type": "markdown",
   "metadata": {},
   "source": [
    "Defino todos los import al principio y, a continuación, importo el .csv:"
   ]
  },
  {
   "cell_type": "code",
   "execution_count": 2,
   "metadata": {},
   "outputs": [
    {
     "data": {
      "text/html": [
       "<div>\n",
       "<style scoped>\n",
       "    .dataframe tbody tr th:only-of-type {\n",
       "        vertical-align: middle;\n",
       "    }\n",
       "\n",
       "    .dataframe tbody tr th {\n",
       "        vertical-align: top;\n",
       "    }\n",
       "\n",
       "    .dataframe thead th {\n",
       "        text-align: right;\n",
       "    }\n",
       "</style>\n",
       "<table border=\"1\" class=\"dataframe\">\n",
       "  <thead>\n",
       "    <tr style=\"text-align: right;\">\n",
       "      <th></th>\n",
       "      <th>Case Number</th>\n",
       "      <th>Date</th>\n",
       "      <th>Year</th>\n",
       "      <th>Type</th>\n",
       "      <th>Country</th>\n",
       "      <th>Area</th>\n",
       "      <th>Location</th>\n",
       "      <th>Activity</th>\n",
       "      <th>Name</th>\n",
       "      <th>Sex</th>\n",
       "      <th>...</th>\n",
       "      <th>Species</th>\n",
       "      <th>Investigator or Source</th>\n",
       "      <th>pdf</th>\n",
       "      <th>href formula</th>\n",
       "      <th>href</th>\n",
       "      <th>Case Number.1</th>\n",
       "      <th>Case Number.2</th>\n",
       "      <th>original order</th>\n",
       "      <th>Unnamed: 22</th>\n",
       "      <th>Unnamed: 23</th>\n",
       "    </tr>\n",
       "  </thead>\n",
       "  <tbody>\n",
       "    <tr>\n",
       "      <th>0</th>\n",
       "      <td>2016.09.18.c</td>\n",
       "      <td>18-Sep-16</td>\n",
       "      <td>2016</td>\n",
       "      <td>Unprovoked</td>\n",
       "      <td>USA</td>\n",
       "      <td>Florida</td>\n",
       "      <td>New Smyrna Beach, Volusia County</td>\n",
       "      <td>Surfing</td>\n",
       "      <td>male</td>\n",
       "      <td>M</td>\n",
       "      <td>...</td>\n",
       "      <td>NaN</td>\n",
       "      <td>Orlando Sentinel, 9/19/2016</td>\n",
       "      <td>2016.09.18.c-NSB.pdf</td>\n",
       "      <td>http://sharkattackfile.net/spreadsheets/pdf_di...</td>\n",
       "      <td>http://sharkattackfile.net/spreadsheets/pdf_di...</td>\n",
       "      <td>2016.09.18.c</td>\n",
       "      <td>2016.09.18.c</td>\n",
       "      <td>5993</td>\n",
       "      <td>NaN</td>\n",
       "      <td>NaN</td>\n",
       "    </tr>\n",
       "    <tr>\n",
       "      <th>1</th>\n",
       "      <td>2016.09.18.b</td>\n",
       "      <td>18-Sep-16</td>\n",
       "      <td>2016</td>\n",
       "      <td>Unprovoked</td>\n",
       "      <td>USA</td>\n",
       "      <td>Florida</td>\n",
       "      <td>New Smyrna Beach, Volusia County</td>\n",
       "      <td>Surfing</td>\n",
       "      <td>Chucky Luciano</td>\n",
       "      <td>M</td>\n",
       "      <td>...</td>\n",
       "      <td>NaN</td>\n",
       "      <td>Orlando Sentinel, 9/19/2016</td>\n",
       "      <td>2016.09.18.b-Luciano.pdf</td>\n",
       "      <td>http://sharkattackfile.net/spreadsheets/pdf_di...</td>\n",
       "      <td>http://sharkattackfile.net/spreadsheets/pdf_di...</td>\n",
       "      <td>2016.09.18.b</td>\n",
       "      <td>2016.09.18.b</td>\n",
       "      <td>5992</td>\n",
       "      <td>NaN</td>\n",
       "      <td>NaN</td>\n",
       "    </tr>\n",
       "    <tr>\n",
       "      <th>2</th>\n",
       "      <td>2016.09.18.a</td>\n",
       "      <td>18-Sep-16</td>\n",
       "      <td>2016</td>\n",
       "      <td>Unprovoked</td>\n",
       "      <td>USA</td>\n",
       "      <td>Florida</td>\n",
       "      <td>New Smyrna Beach, Volusia County</td>\n",
       "      <td>Surfing</td>\n",
       "      <td>male</td>\n",
       "      <td>M</td>\n",
       "      <td>...</td>\n",
       "      <td>NaN</td>\n",
       "      <td>Orlando Sentinel, 9/19/2016</td>\n",
       "      <td>2016.09.18.a-NSB.pdf</td>\n",
       "      <td>http://sharkattackfile.net/spreadsheets/pdf_di...</td>\n",
       "      <td>http://sharkattackfile.net/spreadsheets/pdf_di...</td>\n",
       "      <td>2016.09.18.a</td>\n",
       "      <td>2016.09.18.a</td>\n",
       "      <td>5991</td>\n",
       "      <td>NaN</td>\n",
       "      <td>NaN</td>\n",
       "    </tr>\n",
       "    <tr>\n",
       "      <th>3</th>\n",
       "      <td>2016.09.17</td>\n",
       "      <td>17-Sep-16</td>\n",
       "      <td>2016</td>\n",
       "      <td>Unprovoked</td>\n",
       "      <td>AUSTRALIA</td>\n",
       "      <td>Victoria</td>\n",
       "      <td>Thirteenth Beach</td>\n",
       "      <td>Surfing</td>\n",
       "      <td>Rory Angiolella</td>\n",
       "      <td>M</td>\n",
       "      <td>...</td>\n",
       "      <td>NaN</td>\n",
       "      <td>The Age, 9/18/2016</td>\n",
       "      <td>2016.09.17-Angiolella.pdf</td>\n",
       "      <td>http://sharkattackfile.net/spreadsheets/pdf_di...</td>\n",
       "      <td>http://sharkattackfile.net/spreadsheets/pdf_di...</td>\n",
       "      <td>2016.09.17</td>\n",
       "      <td>2016.09.17</td>\n",
       "      <td>5990</td>\n",
       "      <td>NaN</td>\n",
       "      <td>NaN</td>\n",
       "    </tr>\n",
       "    <tr>\n",
       "      <th>4</th>\n",
       "      <td>2016.09.15</td>\n",
       "      <td>16-Sep-16</td>\n",
       "      <td>2016</td>\n",
       "      <td>Unprovoked</td>\n",
       "      <td>AUSTRALIA</td>\n",
       "      <td>Victoria</td>\n",
       "      <td>Bells Beach</td>\n",
       "      <td>Surfing</td>\n",
       "      <td>male</td>\n",
       "      <td>M</td>\n",
       "      <td>...</td>\n",
       "      <td>2 m shark</td>\n",
       "      <td>The Age, 9/16/2016</td>\n",
       "      <td>2016.09.16-BellsBeach.pdf</td>\n",
       "      <td>http://sharkattackfile.net/spreadsheets/pdf_di...</td>\n",
       "      <td>http://sharkattackfile.net/spreadsheets/pdf_di...</td>\n",
       "      <td>2016.09.16</td>\n",
       "      <td>2016.09.15</td>\n",
       "      <td>5989</td>\n",
       "      <td>NaN</td>\n",
       "      <td>NaN</td>\n",
       "    </tr>\n",
       "  </tbody>\n",
       "</table>\n",
       "<p>5 rows × 24 columns</p>\n",
       "</div>"
      ],
      "text/plain": [
       "    Case Number       Date  Year        Type    Country      Area  \\\n",
       "0  2016.09.18.c  18-Sep-16  2016  Unprovoked        USA   Florida   \n",
       "1  2016.09.18.b  18-Sep-16  2016  Unprovoked        USA   Florida   \n",
       "2  2016.09.18.a  18-Sep-16  2016  Unprovoked        USA   Florida   \n",
       "3    2016.09.17  17-Sep-16  2016  Unprovoked  AUSTRALIA  Victoria   \n",
       "4    2016.09.15  16-Sep-16  2016  Unprovoked  AUSTRALIA  Victoria   \n",
       "\n",
       "                           Location Activity             Name Sex   ...  \\\n",
       "0  New Smyrna Beach, Volusia County  Surfing             male    M  ...   \n",
       "1  New Smyrna Beach, Volusia County  Surfing   Chucky Luciano    M  ...   \n",
       "2  New Smyrna Beach, Volusia County  Surfing             male    M  ...   \n",
       "3                  Thirteenth Beach  Surfing  Rory Angiolella    M  ...   \n",
       "4                       Bells Beach  Surfing             male    M  ...   \n",
       "\n",
       "    Species        Investigator or Source                        pdf  \\\n",
       "0        NaN  Orlando Sentinel, 9/19/2016       2016.09.18.c-NSB.pdf   \n",
       "1        NaN  Orlando Sentinel, 9/19/2016   2016.09.18.b-Luciano.pdf   \n",
       "2        NaN  Orlando Sentinel, 9/19/2016       2016.09.18.a-NSB.pdf   \n",
       "3        NaN           The Age, 9/18/2016  2016.09.17-Angiolella.pdf   \n",
       "4  2 m shark           The Age, 9/16/2016  2016.09.16-BellsBeach.pdf   \n",
       "\n",
       "                                        href formula  \\\n",
       "0  http://sharkattackfile.net/spreadsheets/pdf_di...   \n",
       "1  http://sharkattackfile.net/spreadsheets/pdf_di...   \n",
       "2  http://sharkattackfile.net/spreadsheets/pdf_di...   \n",
       "3  http://sharkattackfile.net/spreadsheets/pdf_di...   \n",
       "4  http://sharkattackfile.net/spreadsheets/pdf_di...   \n",
       "\n",
       "                                                href Case Number.1  \\\n",
       "0  http://sharkattackfile.net/spreadsheets/pdf_di...  2016.09.18.c   \n",
       "1  http://sharkattackfile.net/spreadsheets/pdf_di...  2016.09.18.b   \n",
       "2  http://sharkattackfile.net/spreadsheets/pdf_di...  2016.09.18.a   \n",
       "3  http://sharkattackfile.net/spreadsheets/pdf_di...    2016.09.17   \n",
       "4  http://sharkattackfile.net/spreadsheets/pdf_di...    2016.09.16   \n",
       "\n",
       "  Case Number.2 original order Unnamed: 22 Unnamed: 23  \n",
       "0  2016.09.18.c           5993         NaN         NaN  \n",
       "1  2016.09.18.b           5992         NaN         NaN  \n",
       "2  2016.09.18.a           5991         NaN         NaN  \n",
       "3    2016.09.17           5990         NaN         NaN  \n",
       "4    2016.09.15           5989         NaN         NaN  \n",
       "\n",
       "[5 rows x 24 columns]"
      ]
     },
     "execution_count": 2,
     "metadata": {},
     "output_type": "execute_result"
    }
   ],
   "source": [
    "original = pd.read_csv('./GSAF5.csv', engine='python')\n",
    "original.head()\n"
   ]
  },
  {
   "cell_type": "code",
   "execution_count": 3,
   "metadata": {},
   "outputs": [
    {
     "data": {
      "text/plain": [
       "(5992, 24)"
      ]
     },
     "execution_count": 3,
     "metadata": {},
     "output_type": "execute_result"
    }
   ],
   "source": [
    "original.shape"
   ]
  },
  {
   "cell_type": "markdown",
   "metadata": {},
   "source": [
    "Creo un nuevo dataframe seleccionando las columnas con las que voy a trabajar y prescindiendo del resto, pero mantengo la columna \"original order\" ya que tiene valores únicos y podría usarla como identificador si tuviera que referenciar en un futuro datos adicionales a este dataframe de alguna de las columnas eliminadas:"
   ]
  },
  {
   "cell_type": "code",
   "execution_count": 4,
   "metadata": {},
   "outputs": [
    {
     "data": {
      "text/html": [
       "<div>\n",
       "<style scoped>\n",
       "    .dataframe tbody tr th:only-of-type {\n",
       "        vertical-align: middle;\n",
       "    }\n",
       "\n",
       "    .dataframe tbody tr th {\n",
       "        vertical-align: top;\n",
       "    }\n",
       "\n",
       "    .dataframe thead th {\n",
       "        text-align: right;\n",
       "    }\n",
       "</style>\n",
       "<table border=\"1\" class=\"dataframe\">\n",
       "  <thead>\n",
       "    <tr style=\"text-align: right;\">\n",
       "      <th></th>\n",
       "      <th>original order</th>\n",
       "      <th>Date</th>\n",
       "      <th>Type</th>\n",
       "      <th>Country</th>\n",
       "      <th>Area</th>\n",
       "      <th>Location</th>\n",
       "      <th>Injury</th>\n",
       "      <th>Fatal (Y/N)</th>\n",
       "      <th>Investigator or Source</th>\n",
       "    </tr>\n",
       "  </thead>\n",
       "  <tbody>\n",
       "    <tr>\n",
       "      <th>0</th>\n",
       "      <td>5993</td>\n",
       "      <td>18-Sep-16</td>\n",
       "      <td>Unprovoked</td>\n",
       "      <td>USA</td>\n",
       "      <td>Florida</td>\n",
       "      <td>New Smyrna Beach, Volusia County</td>\n",
       "      <td>Minor injury to thigh</td>\n",
       "      <td>N</td>\n",
       "      <td>Orlando Sentinel, 9/19/2016</td>\n",
       "    </tr>\n",
       "    <tr>\n",
       "      <th>1</th>\n",
       "      <td>5992</td>\n",
       "      <td>18-Sep-16</td>\n",
       "      <td>Unprovoked</td>\n",
       "      <td>USA</td>\n",
       "      <td>Florida</td>\n",
       "      <td>New Smyrna Beach, Volusia County</td>\n",
       "      <td>Lacerations to hands</td>\n",
       "      <td>N</td>\n",
       "      <td>Orlando Sentinel, 9/19/2016</td>\n",
       "    </tr>\n",
       "    <tr>\n",
       "      <th>2</th>\n",
       "      <td>5991</td>\n",
       "      <td>18-Sep-16</td>\n",
       "      <td>Unprovoked</td>\n",
       "      <td>USA</td>\n",
       "      <td>Florida</td>\n",
       "      <td>New Smyrna Beach, Volusia County</td>\n",
       "      <td>Lacerations to lower leg</td>\n",
       "      <td>N</td>\n",
       "      <td>Orlando Sentinel, 9/19/2016</td>\n",
       "    </tr>\n",
       "    <tr>\n",
       "      <th>3</th>\n",
       "      <td>5990</td>\n",
       "      <td>17-Sep-16</td>\n",
       "      <td>Unprovoked</td>\n",
       "      <td>AUSTRALIA</td>\n",
       "      <td>Victoria</td>\n",
       "      <td>Thirteenth Beach</td>\n",
       "      <td>Struck by fin on chest &amp; leg</td>\n",
       "      <td>N</td>\n",
       "      <td>The Age, 9/18/2016</td>\n",
       "    </tr>\n",
       "    <tr>\n",
       "      <th>4</th>\n",
       "      <td>5989</td>\n",
       "      <td>16-Sep-16</td>\n",
       "      <td>Unprovoked</td>\n",
       "      <td>AUSTRALIA</td>\n",
       "      <td>Victoria</td>\n",
       "      <td>Bells Beach</td>\n",
       "      <td>No injury: Knocked off board by shark</td>\n",
       "      <td>N</td>\n",
       "      <td>The Age, 9/16/2016</td>\n",
       "    </tr>\n",
       "  </tbody>\n",
       "</table>\n",
       "</div>"
      ],
      "text/plain": [
       "   original order       Date        Type    Country      Area  \\\n",
       "0            5993  18-Sep-16  Unprovoked        USA   Florida   \n",
       "1            5992  18-Sep-16  Unprovoked        USA   Florida   \n",
       "2            5991  18-Sep-16  Unprovoked        USA   Florida   \n",
       "3            5990  17-Sep-16  Unprovoked  AUSTRALIA  Victoria   \n",
       "4            5989  16-Sep-16  Unprovoked  AUSTRALIA  Victoria   \n",
       "\n",
       "                           Location                                 Injury  \\\n",
       "0  New Smyrna Beach, Volusia County                  Minor injury to thigh   \n",
       "1  New Smyrna Beach, Volusia County                   Lacerations to hands   \n",
       "2  New Smyrna Beach, Volusia County               Lacerations to lower leg   \n",
       "3                  Thirteenth Beach           Struck by fin on chest & leg   \n",
       "4                       Bells Beach  No injury: Knocked off board by shark   \n",
       "\n",
       "  Fatal (Y/N)       Investigator or Source  \n",
       "0           N  Orlando Sentinel, 9/19/2016  \n",
       "1           N  Orlando Sentinel, 9/19/2016  \n",
       "2           N  Orlando Sentinel, 9/19/2016  \n",
       "3           N           The Age, 9/18/2016  \n",
       "4           N           The Age, 9/16/2016  "
      ]
     },
     "execution_count": 4,
     "metadata": {},
     "output_type": "execute_result"
    }
   ],
   "source": [
    "base = original[['original order', 'Date', 'Type', 'Country', 'Area', 'Location', 'Injury', 'Fatal (Y/N)', 'Investigator or Source']].copy()\n",
    "base.head()\n"
   ]
  },
  {
   "cell_type": "code",
   "execution_count": 5,
   "metadata": {},
   "outputs": [
    {
     "data": {
      "text/plain": [
       "(5992, 9)"
      ]
     },
     "execution_count": 5,
     "metadata": {},
     "output_type": "execute_result"
    }
   ],
   "source": [
    "base.shape\n"
   ]
  },
  {
   "cell_type": "markdown",
   "metadata": {},
   "source": [
    "Compruebo los valores que aparecen en la columna Type:"
   ]
  },
  {
   "cell_type": "code",
   "execution_count": 6,
   "metadata": {},
   "outputs": [
    {
     "data": {
      "text/plain": [
       "['Unprovoked', 'Boat', 'Provoked', 'Invalid', 'Sea Disaster', 'Boating']"
      ]
     },
     "execution_count": 6,
     "metadata": {},
     "output_type": "execute_result"
    }
   ],
   "source": [
    "pd.unique(base['Type']).tolist()\n"
   ]
  },
  {
   "cell_type": "markdown",
   "metadata": {},
   "source": [
    "Unifico 'Boat' y 'Boating':"
   ]
  },
  {
   "cell_type": "code",
   "execution_count": 7,
   "metadata": {},
   "outputs": [],
   "source": [
    "base.replace({'Type': {'Boat': 'Boating'}},  inplace = True)"
   ]
  },
  {
   "cell_type": "code",
   "execution_count": 8,
   "metadata": {},
   "outputs": [
    {
     "data": {
      "text/plain": [
       "['Unprovoked', 'Boating', 'Provoked', 'Invalid', 'Sea Disaster']"
      ]
     },
     "execution_count": 8,
     "metadata": {},
     "output_type": "execute_result"
    }
   ],
   "source": [
    "pd.unique(base['Type']).tolist()"
   ]
  },
  {
   "cell_type": "markdown",
   "metadata": {},
   "source": [
    "Examino los valores de los type 'Invalid' y 'Sea Disaster' en la columna 'Injury':"
   ]
  },
  {
   "cell_type": "code",
   "execution_count": 9,
   "metadata": {},
   "outputs": [
    {
     "data": {
      "text/html": [
       "<div>\n",
       "<style scoped>\n",
       "    .dataframe tbody tr th:only-of-type {\n",
       "        vertical-align: middle;\n",
       "    }\n",
       "\n",
       "    .dataframe tbody tr th {\n",
       "        vertical-align: top;\n",
       "    }\n",
       "\n",
       "    .dataframe thead th {\n",
       "        text-align: right;\n",
       "    }\n",
       "</style>\n",
       "<table border=\"1\" class=\"dataframe\">\n",
       "  <thead>\n",
       "    <tr style=\"text-align: right;\">\n",
       "      <th></th>\n",
       "      <th>original order</th>\n",
       "      <th>Date</th>\n",
       "      <th>Type</th>\n",
       "      <th>Country</th>\n",
       "      <th>Area</th>\n",
       "      <th>Location</th>\n",
       "      <th>Injury</th>\n",
       "      <th>Fatal (Y/N)</th>\n",
       "      <th>Investigator or Source</th>\n",
       "    </tr>\n",
       "  </thead>\n",
       "  <tbody>\n",
       "    <tr>\n",
       "      <th>50</th>\n",
       "      <td>5943</td>\n",
       "      <td>07-Jun-16</td>\n",
       "      <td>Invalid</td>\n",
       "      <td>USA</td>\n",
       "      <td>South Carolina</td>\n",
       "      <td>Folly Beach, Charleston County</td>\n",
       "      <td>No injury, board damaged</td>\n",
       "      <td>N</td>\n",
       "      <td>C. Creswell, GSAF</td>\n",
       "    </tr>\n",
       "    <tr>\n",
       "      <th>73</th>\n",
       "      <td>5920</td>\n",
       "      <td>08-Apr-16</td>\n",
       "      <td>Invalid</td>\n",
       "      <td>CAPE VERDE</td>\n",
       "      <td>Boa Vista Island</td>\n",
       "      <td>NaN</td>\n",
       "      <td>\"Serious\"</td>\n",
       "      <td>N</td>\n",
       "      <td>L.O.Guttke</td>\n",
       "    </tr>\n",
       "    <tr>\n",
       "      <th>75</th>\n",
       "      <td>5918</td>\n",
       "      <td>07-Apr-16</td>\n",
       "      <td>Invalid</td>\n",
       "      <td>USA</td>\n",
       "      <td>Florida</td>\n",
       "      <td>Corners Beach, Jupiter, Palm Beach County</td>\n",
       "      <td>Fell off board when spinner shark leapt from t...</td>\n",
       "      <td>N</td>\n",
       "      <td>YouTube</td>\n",
       "    </tr>\n",
       "    <tr>\n",
       "      <th>81</th>\n",
       "      <td>5912</td>\n",
       "      <td>13-Mar-16</td>\n",
       "      <td>Invalid</td>\n",
       "      <td>USA</td>\n",
       "      <td>California</td>\n",
       "      <td>Bolsa Chica State Park, Orange County</td>\n",
       "      <td>Board reportedly bumped by shark. No injury</td>\n",
       "      <td>N</td>\n",
       "      <td>Orange County Register, 3/13/2016</td>\n",
       "    </tr>\n",
       "    <tr>\n",
       "      <th>90</th>\n",
       "      <td>5903</td>\n",
       "      <td>Reported 10-Feb-2016</td>\n",
       "      <td>Invalid</td>\n",
       "      <td>CAYMAN ISLANDS</td>\n",
       "      <td>Grand Cayman</td>\n",
       "      <td>Stingray City Bar</td>\n",
       "      <td>Minor injury to wrist from Southern stingray</td>\n",
       "      <td>N</td>\n",
       "      <td>R. Branson</td>\n",
       "    </tr>\n",
       "  </tbody>\n",
       "</table>\n",
       "</div>"
      ],
      "text/plain": [
       "    original order                  Date     Type         Country  \\\n",
       "50            5943             07-Jun-16  Invalid             USA   \n",
       "73            5920             08-Apr-16  Invalid      CAPE VERDE   \n",
       "75            5918             07-Apr-16  Invalid             USA   \n",
       "81            5912             13-Mar-16  Invalid             USA   \n",
       "90            5903  Reported 10-Feb-2016  Invalid  CAYMAN ISLANDS   \n",
       "\n",
       "                Area                                   Location  \\\n",
       "50    South Carolina             Folly Beach, Charleston County   \n",
       "73  Boa Vista Island                                        NaN   \n",
       "75           Florida  Corners Beach, Jupiter, Palm Beach County   \n",
       "81        California      Bolsa Chica State Park, Orange County   \n",
       "90      Grand Cayman                          Stingray City Bar   \n",
       "\n",
       "                                               Injury Fatal (Y/N)  \\\n",
       "50                           No injury, board damaged           N   \n",
       "73                                          \"Serious\"           N   \n",
       "75  Fell off board when spinner shark leapt from t...           N   \n",
       "81        Board reportedly bumped by shark. No injury           N   \n",
       "90       Minor injury to wrist from Southern stingray           N   \n",
       "\n",
       "               Investigator or Source  \n",
       "50                  C. Creswell, GSAF  \n",
       "73                         L.O.Guttke  \n",
       "75                            YouTube  \n",
       "81  Orange County Register, 3/13/2016  \n",
       "90                         R. Branson  "
      ]
     },
     "execution_count": 9,
     "metadata": {},
     "output_type": "execute_result"
    }
   ],
   "source": [
    "type_invalid = base.query('Type == \"Invalid\"', inplace = False)\n",
    "type_invalid.head()\n"
   ]
  },
  {
   "cell_type": "code",
   "execution_count": 10,
   "metadata": {},
   "outputs": [
    {
     "data": {
      "text/plain": [
       "No injury                                                                                                                                                                                       21\n",
       "FATAL                                                                                                                                                                                           16\n",
       "Probable drowning & scavenging                                                                                                                                                                   8\n",
       "No details                                                                                                                                                                                       5\n",
       "Shark involvement prior to death unconfirmed                                                                                                                                                     5\n",
       "Shark involvement prior to death was not confirmed                                                                                                                                               4\n",
       "Probable drowning with post-mortem bites                                                                                                                                                         4\n",
       "Death may have been due to drowning                                                                                                                                                              4\n",
       "Probable drowning / scavenging                                                                                                                                                                   4\n",
       "Survived                                                                                                                                                                                         3\n",
       "FATAL, but shark involvement prior to death was not determined                                                                                                                                   3\n",
       "Shark bites were post-mortem                                                                                                                                                                     3\n",
       "FATAL, but shark involvement prior to death unconfirmed                                                                                                                                          3\n",
       "Shark involvement not confirmed                                                                                                                                                                  3\n",
       "Leg bitten                                                                                                                                                                                       2\n",
       "Human remains found in shark                                                                                                                                                                     2\n",
       "Shark involvement prior to death not confirmed                                                                                                                                                   2\n",
       "Shark bites post mortem                                                                                                                                                                          2\n",
       "Shark bites may have been post mortem                                                                                                                                                            2\n",
       "Abrasions                                                                                                                                                                                        2\n",
       "Disappeared, but shark involvement unconfirmed                                                                                                                                                   2\n",
       "No injury, no attack                                                                                                                                                                             2\n",
       "Drowned, body scavenged by shark                                                                                                                                                                 2\n",
       "Probable drowning                                                                                                                                                                                2\n",
       "Missing, thought to have been taken by a shark                                                                                                                                                   2\n",
       "No injury, shark made a threat display                                                                                                                                                           2\n",
       "Left forearm lacerated                                                                                                                                                                           2\n",
       "FATAL, but shark involvement prior to death was not confirmed                                                                                                                                    2\n",
       "Foot lacerated                                                                                                                                                                                   2\n",
       "Puncture wounds to foot                                                                                                                                                                          2\n",
       "                                                                                                                                                                                                ..\n",
       "Laceration to foot                                                                                                                                                                               1\n",
       "Speculated that he was taken by a shark but most likely drowned                                                                                                                                  1\n",
       "Sharks were numerous & took corpses but made no attempts to harm the survivors.                                                                                                                  1\n",
       "Later found to be fixtion, never happened                                                                                                                                                        1\n",
       " 3 unidentified bodies recovered (male, female & young girl) from gut of female  4.5 m [14'9\"]  white shark caught in fishing net. They may have drowned in tidal wave following earthquake      1\n",
       "Drowned & his body was not recovered. Sharks seen in area later that day but no shark involvement in surfer's death                                                                              1\n",
       "Drowned, his remains were found in a 3m [10'], 368 kg [811-lb] tiger shark                                                                                                                       1\n",
       "Incident not confirmed                                                                                                                                                                           1\n",
       "Probable drowning and scavenging                                                                                                                                                                 1\n",
       "Scrape to right forearm. Frennet says inflicted by a blue shark, but authorities question shark involvement                                                                                      1\n",
       "PRESUMED FATAL, body not recovered                                                                                                                                                               1\n",
       "Abrasions to left hand                                                                                                                                                                           1\n",
       "Shark caught, contained human remains                                                                                                                                                            1\n",
       "As he pushd the shark away from his camera, his finger was cut on a tooth                                                                                                                        1\n",
       "FATAL?                                                                                                                                                                                           1\n",
       "No injury, shark leapt at him                                                                                                                                                                    1\n",
       " Forced at gunpoint to jump overboard. Presumed fatal; shark involvement probable but not confirmed                                                                                              1\n",
       "Dorsum of foot/ankle  injured by surfboard skeg or other inanimate object.                                                                                                                       1\n",
       "Torso bitten but may have been postmorem                                                                                                                                                         1\n",
       "Human remains (right forearm & leg) recovered from 3.7m [12'] tiger shark�s gut. Forensic examination suggested the remains had been consumed by the shark one to two weeks earlier              1\n",
       "Minor injury to wrist from Southern stingray                                                                                                                                                     1\n",
       "Abrasion above knee                                                                                                                                                                              1\n",
       "Although this incident is listed elsewhere as a shark attack, the account of the disaster suggests the 4 who perished probably drowned. Five people survived                                     1\n",
       "No injury. No attack. 12' white shark appeared curious, not aggressive & departed when prodded by spear                                                                                          1\n",
       "Thumb & coat sleeve recovered from shark's gut                                                                                                                                                   1\n",
       "Reported to have been killed by a shark but 2 years later he was found very much alive                                                                                                           1\n",
       "Minor lacerations & abrasions to lower leg.                                                                                                                                                      1\n",
       "Laceration to back                                                                                                                                                                               1\n",
       "Shark involvement prior to death priunconfirmed                                                                                                                                                  1\n",
       "No injury, board damaged                                                                                                                                                                         1\n",
       "Name: Injury, Length: 420, dtype: int64"
      ]
     },
     "execution_count": 10,
     "metadata": {},
     "output_type": "execute_result"
    }
   ],
   "source": [
    "type_invalid['Injury'].value_counts()\n",
    "\n"
   ]
  },
  {
   "cell_type": "code",
   "execution_count": 11,
   "metadata": {},
   "outputs": [
    {
     "data": {
      "text/html": [
       "<div>\n",
       "<style scoped>\n",
       "    .dataframe tbody tr th:only-of-type {\n",
       "        vertical-align: middle;\n",
       "    }\n",
       "\n",
       "    .dataframe tbody tr th {\n",
       "        vertical-align: top;\n",
       "    }\n",
       "\n",
       "    .dataframe thead th {\n",
       "        text-align: right;\n",
       "    }\n",
       "</style>\n",
       "<table border=\"1\" class=\"dataframe\">\n",
       "  <thead>\n",
       "    <tr style=\"text-align: right;\">\n",
       "      <th></th>\n",
       "      <th>original order</th>\n",
       "      <th>Date</th>\n",
       "      <th>Type</th>\n",
       "      <th>Country</th>\n",
       "      <th>Area</th>\n",
       "      <th>Location</th>\n",
       "      <th>Injury</th>\n",
       "      <th>Fatal (Y/N)</th>\n",
       "      <th>Investigator or Source</th>\n",
       "    </tr>\n",
       "  </thead>\n",
       "  <tbody>\n",
       "    <tr>\n",
       "      <th>243</th>\n",
       "      <td>5749</td>\n",
       "      <td>28-Dec-14</td>\n",
       "      <td>Sea Disaster</td>\n",
       "      <td>GREECE</td>\n",
       "      <td>NaN</td>\n",
       "      <td>33 nautical miles off Othonoi Island</td>\n",
       "      <td>Of 9 bodies recovered, one was bitten by a shark</td>\n",
       "      <td>N</td>\n",
       "      <td>Greek Reporter, 1/13/2015</td>\n",
       "    </tr>\n",
       "    <tr>\n",
       "      <th>365</th>\n",
       "      <td>5628</td>\n",
       "      <td>04-Jan-14</td>\n",
       "      <td>Sea Disaster</td>\n",
       "      <td>JAPAN</td>\n",
       "      <td>Okinawa Prefecture</td>\n",
       "      <td>Off Miyako Island</td>\n",
       "      <td>5 cm bite to left foot</td>\n",
       "      <td>N</td>\n",
       "      <td>Focus Taiwan, 1/7/2014</td>\n",
       "    </tr>\n",
       "    <tr>\n",
       "      <th>668</th>\n",
       "      <td>5325</td>\n",
       "      <td>30-Jul-11</td>\n",
       "      <td>Sea Disaster</td>\n",
       "      <td>PHILIPPINES</td>\n",
       "      <td>NaN</td>\n",
       "      <td>NaN</td>\n",
       "      <td>The two Malabagos were bitten by sharks but su...</td>\n",
       "      <td>N</td>\n",
       "      <td>ABS-CBN News, 8/17/2011</td>\n",
       "    </tr>\n",
       "    <tr>\n",
       "      <th>935</th>\n",
       "      <td>5058</td>\n",
       "      <td>08-Feb-09</td>\n",
       "      <td>Sea Disaster</td>\n",
       "      <td>USA</td>\n",
       "      <td>Puerto Rico</td>\n",
       "      <td>Quebradillas</td>\n",
       "      <td>It is probable that all 5 passengers died on i...</td>\n",
       "      <td>Y</td>\n",
       "      <td>C. Ekstander, GSAF</td>\n",
       "    </tr>\n",
       "    <tr>\n",
       "      <th>966</th>\n",
       "      <td>5027</td>\n",
       "      <td>25-Nov-08</td>\n",
       "      <td>Sea Disaster</td>\n",
       "      <td>PHILIPPINES</td>\n",
       "      <td>Batanes Provine</td>\n",
       "      <td>Luzon Strait</td>\n",
       "      <td>Of the 20 crew, 4 were bitten by shark. None o...</td>\n",
       "      <td>N</td>\n",
       "      <td>C. Johansson, GSAF</td>\n",
       "    </tr>\n",
       "  </tbody>\n",
       "</table>\n",
       "</div>"
      ],
      "text/plain": [
       "     original order       Date          Type      Country                Area  \\\n",
       "243            5749  28-Dec-14  Sea Disaster       GREECE                 NaN   \n",
       "365            5628  04-Jan-14  Sea Disaster        JAPAN  Okinawa Prefecture   \n",
       "668            5325  30-Jul-11  Sea Disaster  PHILIPPINES                 NaN   \n",
       "935            5058  08-Feb-09  Sea Disaster          USA         Puerto Rico   \n",
       "966            5027  25-Nov-08  Sea Disaster  PHILIPPINES     Batanes Provine   \n",
       "\n",
       "                                 Location  \\\n",
       "243  33 nautical miles off Othonoi Island   \n",
       "365                     Off Miyako Island   \n",
       "668                                   NaN   \n",
       "935                          Quebradillas   \n",
       "966                          Luzon Strait   \n",
       "\n",
       "                                                Injury Fatal (Y/N)  \\\n",
       "243   Of 9 bodies recovered, one was bitten by a shark           N   \n",
       "365                             5 cm bite to left foot           N   \n",
       "668  The two Malabagos were bitten by sharks but su...           N   \n",
       "935  It is probable that all 5 passengers died on i...           Y   \n",
       "966  Of the 20 crew, 4 were bitten by shark. None o...           N   \n",
       "\n",
       "        Investigator or Source  \n",
       "243  Greek Reporter, 1/13/2015  \n",
       "365     Focus Taiwan, 1/7/2014  \n",
       "668    ABS-CBN News, 8/17/2011  \n",
       "935         C. Ekstander, GSAF  \n",
       "966         C. Johansson, GSAF  "
      ]
     },
     "execution_count": 11,
     "metadata": {},
     "output_type": "execute_result"
    }
   ],
   "source": [
    "type_disaster = base.query('Type == \"Sea Disaster\"', inplace = False)\n",
    "type_disaster.head()"
   ]
  },
  {
   "cell_type": "code",
   "execution_count": 12,
   "metadata": {},
   "outputs": [
    {
     "data": {
      "text/plain": [
       "FATAL                                                                                                                                                                                                                                          49\n",
       "FATAL x 2                                                                                                                                                                                                                                       4\n",
       "Survived                                                                                                                                                                                                                                        2\n",
       "Leg bitten                                                                                                                                                                                                                                      2\n",
       "Foot bitten                                                                                                                                                                                                                                     2\n",
       "FATAL                                                                                                                                                                                                                                           2\n",
       "Foot severed                                                                                                                                                                                                                                    2\n",
       "FATAL, some were taken by sharks                                                                                                                                                                                                                2\n",
       "Puncture wounds to right thigh                                                                                                                                                                                                                  1\n",
       "About 300  crew perished during the sinking, the remainder abandoned ship. Many who survived the loss of the ship were taken by sharks. In all, only 316 of her crew of 1,196 survived.                                                         1\n",
       "Of the 42 people on board, 5 died of exposure, others drowned or were taken by sharks, and survivors were rescued after spending 3 days in the water.                                                                                           1\n",
       "FATAL Arm bitten                                                                                                                                                                                                                                1\n",
       "Probable drowning & scavenging                                                                                                                                                                                                                  1\n",
       "FATAL & some of the survivors were bitten by sharks                                                                                                                                                                                             1\n",
       "It was believed that survivors were killed by sharks                                                                                                                                                                                            1\n",
       "3 of the 4 passengers killed by sharks                                                                                                                                                                                                          1\n",
       "Clinton was bitten on his back, 2 others did not survive                                                                                                                                                                                        1\n",
       " 55  perished, some were  taken by sharks                                                                                                                                                                                                       1\n",
       "FATAL, shark seized her by the chest and took her underwater                                                                                                                                                                                    1\n",
       "FATAL, shark bit leg, then dragged him underwater                                                                                                                                                                                               1\n",
       "FATAL, it was  thought  the surviving crew  were taken by sharks                                                                                                                                                                                1\n",
       "FATAL, arms & legs bitten                                                                                                                                                                                                                       1\n",
       "Thought to have been taken by a shark                                                                                                                                                                                                           1\n",
       "Presumed FATAL                                                                                                                                                                                                                                  1\n",
       "FATAL, only 1 of her crew of 7 survived                                                                                                                                                                                                         1\n",
       "Next day 2 bodies recovered from sharks                                                                                                                                                                                                         1\n",
       "Of 104 people in the water, only 20 survived. 84 people were lost, many to sharks. Sharks 2 pulled crew off life rafts                                                                                                                          1\n",
       "40 people perished                                                                                                                                                                                                                              1\n",
       "FATAL. Womack was injured when plane went down, 3 days later he fell off liferaft & was taken by a shark                                                                                                                                        1\n",
       "Minor injuries                                                                                                                                                                                                                                  1\n",
       "                                                                                                                                                                                                                                               ..\n",
       "FATAL, only his legs, still in sea-boots, were recovered                                                                                                                                                                                        1\n",
       "Some of the survivors said to have been bitten by sharks                                                                                                                                                                                        1\n",
       "No injury, but shark removed the heel & part of his left shoe                                                                                                                                                                                   1\n",
       "Herodotus tells of sharks attacking men in the water                                                                                                                                                                                            1\n",
       "According to survivors, many people were taken by sharks                                                                                                                                                                                        1\n",
       "FATAL, 101 people perished, including commander, Joseph Couailhac. Iit was reported that a �shoal of sharks circled  passengers in the water and dragged scores of people to their deaths� Of the 61 survivors, many were injured by sharks     1\n",
       "An estimated  3,000 to 7,000 Japanese troops perished, some were taken by sharks                                                                                                                                                                1\n",
       "11 of her crew perished, most, possibly all, deaths were due to drowning                                                                                                                                                                        1\n",
       "Laceration to torso                                                                                                                                                                                                                             1\n",
       "Leg, foot & arm bitten                                                                                                                                                                                                                          1\n",
       "Of 160 people on board, >100 missing                                                                                                                                                                                                            1\n",
       "Boat capsized in squall. 2 bodies scavenged  by sharks                                                                                                                                                                                          1\n",
       "Severely bitten on heel, 20 others taken by sharks                                                                                                                                                                                              1\n",
       "2 people survived, 6 drowned & the others were killed by sharks                                                                                                                                                                                 1\n",
       "7 rescued, 7 bodies recovered, 10 missing. Many sharks in crash area.                                                                                                                                                                           1\n",
       "Of her crew of 50, eight perished, including the two injured men                                                                                                                                                                                1\n",
       "Sharks attacked raft & consumed the body of Ericsson after he died                                                                                                                                                                              1\n",
       "Disappeared, thought to have murdered or drowned or  taken by a sharks after entrails washed ashore                                                                                                                                             1\n",
       "FATAL X 2, 8 others missing. Survivors fought off sharks & sharks seen biting 2 of the dead. The 39 survivors were rescued by the German freighter Essen                                                                                        1\n",
       "FATAL, other human remains bitten by sharks, 13 people missing                                                                                                                                                                                  1\n",
       "As searchers approached wreckage, sharks circled one canoe & seized oar from another.                                                                                                                                                           1\n",
       "FATAL, only 1 survivor                                                                                                                                                                                                                          1\n",
       "Navy personnel recovered 19 shark-scavenged bodies                                                                                                                                                                                              1\n",
       "15 perished but shark involvement prior to death was not confirmed                                                                                                                                                                              1\n",
       "FATAL, \"men snatched from rafts by sharks\"                                                                                                                                                                                                      1\n",
       "Bodies of 5 of the 6 men on board were bitten by by sharks. Sharks may have contributed to the death of some of them.                                                                                                                           1\n",
       "FATAL, both were killed by sharks                                                                                                                                                                                                               1\n",
       "FATAL, at time of sinking several men were thrown in water & killed by sharks, survivors were rescued 3 days later by the Panamanian ship Christobel                                                                                            1\n",
       "Fingers badly lacerated, wounds became septic                                                                                                                                                                                                   1\n",
       "Sharks attacked sailors in the water, several survivors picked up                                                                                                                                                                               1\n",
       "Name: Injury, Length: 162, dtype: int64"
      ]
     },
     "execution_count": 12,
     "metadata": {},
     "output_type": "execute_result"
    }
   ],
   "source": [
    "type_disaster['Injury'].value_counts()"
   ]
  },
  {
   "cell_type": "code",
   "execution_count": 13,
   "metadata": {},
   "outputs": [
    {
     "data": {
      "text/plain": [
       "5"
      ]
     },
     "execution_count": 13,
     "metadata": {},
     "output_type": "execute_result"
    }
   ],
   "source": [
    "base['Type'].nunique()"
   ]
  },
  {
   "cell_type": "markdown",
   "metadata": {},
   "source": [
    "Descarto los type 'Invalid' porque o no está confirmada la implicación de tiburones, o los ataques han sido post-mortem. También descarto los type 'Sea Disaster' porque considero que es natural que si hay un accidente en alta mar, los tiburones se alimenten de lo que encuentren, por lo que me centraré en los casos en que los tiburones se hayan acercado a las playas o la línea de costa expresamente"
   ]
  },
  {
   "cell_type": "code",
   "execution_count": 14,
   "metadata": {},
   "outputs": [
    {
     "data": {
      "text/html": [
       "<div>\n",
       "<style scoped>\n",
       "    .dataframe tbody tr th:only-of-type {\n",
       "        vertical-align: middle;\n",
       "    }\n",
       "\n",
       "    .dataframe tbody tr th {\n",
       "        vertical-align: top;\n",
       "    }\n",
       "\n",
       "    .dataframe thead th {\n",
       "        text-align: right;\n",
       "    }\n",
       "</style>\n",
       "<table border=\"1\" class=\"dataframe\">\n",
       "  <thead>\n",
       "    <tr style=\"text-align: right;\">\n",
       "      <th></th>\n",
       "      <th>original order</th>\n",
       "      <th>Date</th>\n",
       "      <th>Type</th>\n",
       "      <th>Country</th>\n",
       "      <th>Area</th>\n",
       "      <th>Location</th>\n",
       "      <th>Injury</th>\n",
       "      <th>Fatal (Y/N)</th>\n",
       "      <th>Investigator or Source</th>\n",
       "    </tr>\n",
       "  </thead>\n",
       "  <tbody>\n",
       "    <tr>\n",
       "      <th>0</th>\n",
       "      <td>5993</td>\n",
       "      <td>18-Sep-16</td>\n",
       "      <td>Unprovoked</td>\n",
       "      <td>USA</td>\n",
       "      <td>Florida</td>\n",
       "      <td>New Smyrna Beach, Volusia County</td>\n",
       "      <td>Minor injury to thigh</td>\n",
       "      <td>N</td>\n",
       "      <td>Orlando Sentinel, 9/19/2016</td>\n",
       "    </tr>\n",
       "    <tr>\n",
       "      <th>1</th>\n",
       "      <td>5992</td>\n",
       "      <td>18-Sep-16</td>\n",
       "      <td>Unprovoked</td>\n",
       "      <td>USA</td>\n",
       "      <td>Florida</td>\n",
       "      <td>New Smyrna Beach, Volusia County</td>\n",
       "      <td>Lacerations to hands</td>\n",
       "      <td>N</td>\n",
       "      <td>Orlando Sentinel, 9/19/2016</td>\n",
       "    </tr>\n",
       "    <tr>\n",
       "      <th>2</th>\n",
       "      <td>5991</td>\n",
       "      <td>18-Sep-16</td>\n",
       "      <td>Unprovoked</td>\n",
       "      <td>USA</td>\n",
       "      <td>Florida</td>\n",
       "      <td>New Smyrna Beach, Volusia County</td>\n",
       "      <td>Lacerations to lower leg</td>\n",
       "      <td>N</td>\n",
       "      <td>Orlando Sentinel, 9/19/2016</td>\n",
       "    </tr>\n",
       "    <tr>\n",
       "      <th>3</th>\n",
       "      <td>5990</td>\n",
       "      <td>17-Sep-16</td>\n",
       "      <td>Unprovoked</td>\n",
       "      <td>AUSTRALIA</td>\n",
       "      <td>Victoria</td>\n",
       "      <td>Thirteenth Beach</td>\n",
       "      <td>Struck by fin on chest &amp; leg</td>\n",
       "      <td>N</td>\n",
       "      <td>The Age, 9/18/2016</td>\n",
       "    </tr>\n",
       "    <tr>\n",
       "      <th>4</th>\n",
       "      <td>5989</td>\n",
       "      <td>16-Sep-16</td>\n",
       "      <td>Unprovoked</td>\n",
       "      <td>AUSTRALIA</td>\n",
       "      <td>Victoria</td>\n",
       "      <td>Bells Beach</td>\n",
       "      <td>No injury: Knocked off board by shark</td>\n",
       "      <td>N</td>\n",
       "      <td>The Age, 9/16/2016</td>\n",
       "    </tr>\n",
       "  </tbody>\n",
       "</table>\n",
       "</div>"
      ],
      "text/plain": [
       "   original order       Date        Type    Country      Area  \\\n",
       "0            5993  18-Sep-16  Unprovoked        USA   Florida   \n",
       "1            5992  18-Sep-16  Unprovoked        USA   Florida   \n",
       "2            5991  18-Sep-16  Unprovoked        USA   Florida   \n",
       "3            5990  17-Sep-16  Unprovoked  AUSTRALIA  Victoria   \n",
       "4            5989  16-Sep-16  Unprovoked  AUSTRALIA  Victoria   \n",
       "\n",
       "                           Location                                 Injury  \\\n",
       "0  New Smyrna Beach, Volusia County                  Minor injury to thigh   \n",
       "1  New Smyrna Beach, Volusia County                   Lacerations to hands   \n",
       "2  New Smyrna Beach, Volusia County               Lacerations to lower leg   \n",
       "3                  Thirteenth Beach           Struck by fin on chest & leg   \n",
       "4                       Bells Beach  No injury: Knocked off board by shark   \n",
       "\n",
       "  Fatal (Y/N)       Investigator or Source  \n",
       "0           N  Orlando Sentinel, 9/19/2016  \n",
       "1           N  Orlando Sentinel, 9/19/2016  \n",
       "2           N  Orlando Sentinel, 9/19/2016  \n",
       "3           N           The Age, 9/18/2016  \n",
       "4           N           The Age, 9/16/2016  "
      ]
     },
     "execution_count": 14,
     "metadata": {},
     "output_type": "execute_result"
    }
   ],
   "source": [
    "base.query('Type == \"Unprovoked\" or Type == \"Provoked\" or Type == \"Boating\"', inplace = True)\n",
    "base.head()\n",
    "                 "
   ]
  },
  {
   "cell_type": "markdown",
   "metadata": {},
   "source": [
    "Compruebo que solo queden los tres valores que quería en la columna Type:"
   ]
  },
  {
   "cell_type": "code",
   "execution_count": 15,
   "metadata": {},
   "outputs": [
    {
     "data": {
      "text/plain": [
       "3"
      ]
     },
     "execution_count": 15,
     "metadata": {},
     "output_type": "execute_result"
    }
   ],
   "source": [
    "base['Type'].nunique()\n"
   ]
  },
  {
   "cell_type": "code",
   "execution_count": 16,
   "metadata": {},
   "outputs": [
    {
     "data": {
      "text/plain": [
       "(5253, 9)"
      ]
     },
     "execution_count": 16,
     "metadata": {},
     "output_type": "execute_result"
    }
   ],
   "source": [
    "base.shape"
   ]
  },
  {
   "cell_type": "markdown",
   "metadata": {},
   "source": [
    "Compruebo cuántos registros tienen el Country en blanco:"
   ]
  },
  {
   "cell_type": "code",
   "execution_count": 17,
   "metadata": {},
   "outputs": [
    {
     "data": {
      "text/plain": [
       "31"
      ]
     },
     "execution_count": 17,
     "metadata": {},
     "output_type": "execute_result"
    }
   ],
   "source": [
    "base['Country'].isna().sum()"
   ]
  },
  {
   "cell_type": "markdown",
   "metadata": {},
   "source": [
    "Decido prescindir de esos 31 registros, porque no afecta al análisis:"
   ]
  },
  {
   "cell_type": "code",
   "execution_count": 18,
   "metadata": {},
   "outputs": [],
   "source": [
    "base.dropna(subset=['Country'], inplace = True)\n"
   ]
  },
  {
   "cell_type": "code",
   "execution_count": 19,
   "metadata": {},
   "outputs": [
    {
     "data": {
      "text/plain": [
       "(5222, 9)"
      ]
     },
     "execution_count": 19,
     "metadata": {},
     "output_type": "execute_result"
    }
   ],
   "source": [
    "base.shape"
   ]
  },
  {
   "cell_type": "markdown",
   "metadata": {},
   "source": [
    "Compruebo los valores de los registros en 'Fatal (Y/N)' y los unifico:"
   ]
  },
  {
   "cell_type": "code",
   "execution_count": 20,
   "metadata": {},
   "outputs": [
    {
     "data": {
      "text/plain": [
       "['N', 'Y', nan, 'UNKNOWN', ' N', 'N ', 'n']"
      ]
     },
     "execution_count": 20,
     "metadata": {},
     "output_type": "execute_result"
    }
   ],
   "source": [
    "pd.unique(base['Fatal (Y/N)']).tolist()\n"
   ]
  },
  {
   "cell_type": "code",
   "execution_count": 21,
   "metadata": {},
   "outputs": [
    {
     "data": {
      "text/plain": [
       "['N', 'Y', nan, 'UNKNOWN']"
      ]
     },
     "execution_count": 21,
     "metadata": {},
     "output_type": "execute_result"
    }
   ],
   "source": [
    "base.replace({'Fatal (Y/N)': {' N': 'N'}}, inplace = True)\n",
    "base.replace({'Fatal (Y/N)': {'N ': 'N'}}, inplace = True)\n",
    "base.replace({'Fatal (Y/N)': {'n': 'N'}}, inplace = True)\n",
    "pd.unique(base['Fatal (Y/N)']).tolist()\n"
   ]
  },
  {
   "cell_type": "code",
   "execution_count": 22,
   "metadata": {},
   "outputs": [
    {
     "data": {
      "text/plain": [
       "N          4006\n",
       "Y          1144\n",
       "UNKNOWN      67\n",
       "Name: Fatal (Y/N), dtype: int64"
      ]
     },
     "execution_count": 22,
     "metadata": {},
     "output_type": "execute_result"
    }
   ],
   "source": [
    "base['Fatal (Y/N)'].value_counts()"
   ]
  },
  {
   "cell_type": "code",
   "execution_count": 23,
   "metadata": {},
   "outputs": [
    {
     "data": {
      "text/plain": [
       "5"
      ]
     },
     "execution_count": 23,
     "metadata": {},
     "output_type": "execute_result"
    }
   ],
   "source": [
    "base['Fatal (Y/N)'].isna().sum()"
   ]
  },
  {
   "cell_type": "markdown",
   "metadata": {},
   "source": [
    "Decido prescindir de los 67 registros 'unknown' y los 5 'nan', porque no afecta al análisis:"
   ]
  },
  {
   "cell_type": "code",
   "execution_count": 24,
   "metadata": {},
   "outputs": [],
   "source": [
    "base = base.drop(base[base['Fatal (Y/N)'] == \"UNKNOWN\"].index, axis = 0)"
   ]
  },
  {
   "cell_type": "code",
   "execution_count": 25,
   "metadata": {},
   "outputs": [
    {
     "data": {
      "text/plain": [
       "(5155, 9)"
      ]
     },
     "execution_count": 25,
     "metadata": {},
     "output_type": "execute_result"
    }
   ],
   "source": [
    "base.shape"
   ]
  },
  {
   "cell_type": "code",
   "execution_count": 26,
   "metadata": {},
   "outputs": [],
   "source": [
    "base.dropna(subset=['Fatal (Y/N)'], inplace = True)"
   ]
  },
  {
   "cell_type": "code",
   "execution_count": 27,
   "metadata": {},
   "outputs": [
    {
     "data": {
      "text/plain": [
       "(5150, 9)"
      ]
     },
     "execution_count": 27,
     "metadata": {},
     "output_type": "execute_result"
    }
   ],
   "source": [
    "base.shape"
   ]
  },
  {
   "cell_type": "code",
   "execution_count": 28,
   "metadata": {},
   "outputs": [
    {
     "data": {
      "text/plain": [
       "['N', 'Y']"
      ]
     },
     "execution_count": 28,
     "metadata": {},
     "output_type": "execute_result"
    }
   ],
   "source": [
    "pd.unique(base['Fatal (Y/N)']).tolist()"
   ]
  },
  {
   "cell_type": "code",
   "execution_count": 29,
   "metadata": {},
   "outputs": [
    {
     "name": "stdout",
     "output_type": "stream",
     "text": [
      "object\n"
     ]
    }
   ],
   "source": [
    "print(base['Date'].dtype)\n"
   ]
  },
  {
   "cell_type": "code",
   "execution_count": 33,
   "metadata": {},
   "outputs": [
    {
     "data": {
      "text/html": [
       "<div>\n",
       "<style scoped>\n",
       "    .dataframe tbody tr th:only-of-type {\n",
       "        vertical-align: middle;\n",
       "    }\n",
       "\n",
       "    .dataframe tbody tr th {\n",
       "        vertical-align: top;\n",
       "    }\n",
       "\n",
       "    .dataframe thead th {\n",
       "        text-align: right;\n",
       "    }\n",
       "</style>\n",
       "<table border=\"1\" class=\"dataframe\">\n",
       "  <thead>\n",
       "    <tr style=\"text-align: right;\">\n",
       "      <th></th>\n",
       "      <th>original order</th>\n",
       "      <th>Date</th>\n",
       "      <th>Type</th>\n",
       "      <th>Country</th>\n",
       "      <th>Area</th>\n",
       "      <th>Location</th>\n",
       "      <th>Injury</th>\n",
       "      <th>Fatal (Y/N)</th>\n",
       "      <th>Investigator or Source</th>\n",
       "    </tr>\n",
       "  </thead>\n",
       "  <tbody>\n",
       "    <tr>\n",
       "      <th>0</th>\n",
       "      <td>5993</td>\n",
       "      <td>18-Sep-16</td>\n",
       "      <td>Unprovoked</td>\n",
       "      <td>USA</td>\n",
       "      <td>Florida</td>\n",
       "      <td>New Smyrna Beach, Volusia County</td>\n",
       "      <td>Minor injury to thigh</td>\n",
       "      <td>N</td>\n",
       "      <td>Orlando Sentinel, 9/19/2016</td>\n",
       "    </tr>\n",
       "    <tr>\n",
       "      <th>1</th>\n",
       "      <td>5992</td>\n",
       "      <td>18-Sep-16</td>\n",
       "      <td>Unprovoked</td>\n",
       "      <td>USA</td>\n",
       "      <td>Florida</td>\n",
       "      <td>New Smyrna Beach, Volusia County</td>\n",
       "      <td>Lacerations to hands</td>\n",
       "      <td>N</td>\n",
       "      <td>Orlando Sentinel, 9/19/2016</td>\n",
       "    </tr>\n",
       "    <tr>\n",
       "      <th>2</th>\n",
       "      <td>5991</td>\n",
       "      <td>18-Sep-16</td>\n",
       "      <td>Unprovoked</td>\n",
       "      <td>USA</td>\n",
       "      <td>Florida</td>\n",
       "      <td>New Smyrna Beach, Volusia County</td>\n",
       "      <td>Lacerations to lower leg</td>\n",
       "      <td>N</td>\n",
       "      <td>Orlando Sentinel, 9/19/2016</td>\n",
       "    </tr>\n",
       "    <tr>\n",
       "      <th>3</th>\n",
       "      <td>5990</td>\n",
       "      <td>17-Sep-16</td>\n",
       "      <td>Unprovoked</td>\n",
       "      <td>AUSTRALIA</td>\n",
       "      <td>Victoria</td>\n",
       "      <td>Thirteenth Beach</td>\n",
       "      <td>Struck by fin on chest &amp; leg</td>\n",
       "      <td>N</td>\n",
       "      <td>The Age, 9/18/2016</td>\n",
       "    </tr>\n",
       "    <tr>\n",
       "      <th>4</th>\n",
       "      <td>5989</td>\n",
       "      <td>16-Sep-16</td>\n",
       "      <td>Unprovoked</td>\n",
       "      <td>AUSTRALIA</td>\n",
       "      <td>Victoria</td>\n",
       "      <td>Bells Beach</td>\n",
       "      <td>No injury: Knocked off board by shark</td>\n",
       "      <td>N</td>\n",
       "      <td>The Age, 9/16/2016</td>\n",
       "    </tr>\n",
       "  </tbody>\n",
       "</table>\n",
       "</div>"
      ],
      "text/plain": [
       "   original order       Date        Type    Country      Area  \\\n",
       "0            5993  18-Sep-16  Unprovoked        USA   Florida   \n",
       "1            5992  18-Sep-16  Unprovoked        USA   Florida   \n",
       "2            5991  18-Sep-16  Unprovoked        USA   Florida   \n",
       "3            5990  17-Sep-16  Unprovoked  AUSTRALIA  Victoria   \n",
       "4            5989  16-Sep-16  Unprovoked  AUSTRALIA  Victoria   \n",
       "\n",
       "                           Location                                 Injury  \\\n",
       "0  New Smyrna Beach, Volusia County                  Minor injury to thigh   \n",
       "1  New Smyrna Beach, Volusia County                   Lacerations to hands   \n",
       "2  New Smyrna Beach, Volusia County               Lacerations to lower leg   \n",
       "3                  Thirteenth Beach           Struck by fin on chest & leg   \n",
       "4                       Bells Beach  No injury: Knocked off board by shark   \n",
       "\n",
       "  Fatal (Y/N)       Investigator or Source  \n",
       "0           N  Orlando Sentinel, 9/19/2016  \n",
       "1           N  Orlando Sentinel, 9/19/2016  \n",
       "2           N  Orlando Sentinel, 9/19/2016  \n",
       "3           N           The Age, 9/18/2016  \n",
       "4           N           The Age, 9/16/2016  "
      ]
     },
     "execution_count": 33,
     "metadata": {},
     "output_type": "execute_result"
    }
   ],
   "source": [
    "base.replace({'Date': {'\\-+': ''}}, inplace = True)\n",
    "base.head()\n"
   ]
  },
  {
   "cell_type": "code",
   "execution_count": null,
   "metadata": {},
   "outputs": [],
   "source": []
  },
  {
   "cell_type": "code",
   "execution_count": null,
   "metadata": {},
   "outputs": [],
   "source": []
  }
 ],
 "metadata": {
  "kernelspec": {
   "display_name": "Python 3",
   "language": "python",
   "name": "python3"
  },
  "language_info": {
   "codemirror_mode": {
    "name": "ipython",
    "version": 3
   },
   "file_extension": ".py",
   "mimetype": "text/x-python",
   "name": "python",
   "nbconvert_exporter": "python",
   "pygments_lexer": "ipython3",
   "version": "3.7.3"
  }
 },
 "nbformat": 4,
 "nbformat_minor": 2
}
