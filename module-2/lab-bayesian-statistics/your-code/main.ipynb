{
 "cells": [
  {
   "cell_type": "markdown",
   "metadata": {},
   "source": [
    "# Intro to Bayesian Statistics Lab\n",
    "\n",
    "Complete the following set of exercises to solidify your knowledge of Bayesian statistics and Bayesian data analysis."
   ]
  },
  {
   "cell_type": "code",
   "execution_count": 20,
   "metadata": {},
   "outputs": [],
   "source": [
    "import pandas as pd\n",
    "import numpy as np\n",
    "import matplotlib.pyplot as plt"
   ]
  },
  {
   "cell_type": "markdown",
   "metadata": {},
   "source": [
    "## 1. Cookie Problem\n",
    "\n",
    "Suppose we have two bowls of cookies. Bowl 1 contains 30 vanilla cookies and 10 chocolate cookies. Bowl 2 contains 20 of each. You randomly pick one cookie out of one of the bowls, and it is vanilla. Use Bayes Theorem to calculate the probability that the vanilla cookie you picked came from Bowl 1?"
   ]
  },
  {
   "cell_type": "code",
   "execution_count": 21,
   "metadata": {},
   "outputs": [
    {
     "data": {
      "text/plain": [
       "array([0.42857143, 0.57142857])"
      ]
     },
     "execution_count": 21,
     "metadata": {},
     "output_type": "execute_result"
    }
   ],
   "source": [
    "priorsv = [1 / 2, 1 / 2]\n",
    "likelihoodsv = [30 / 40, 20 / 20]\n",
    "def bayes_rule(priorsv, likehoodsv):\n",
    "    margv = sum(np.multiply(priorsv, likelihoodsv))\n",
    "    postv = np.divide(np.multiply(priorsv, likelihoodsv), margv)\n",
    "    return postv\n",
    "bayes_rule(priorsv, likelihoodsv)\n"
   ]
  },
  {
   "cell_type": "code",
   "execution_count": 22,
   "metadata": {},
   "outputs": [
    {
     "name": "stdout",
     "output_type": "stream",
     "text": [
      "The probability that the vanilla cookie I picked came from Bowl 1 is 0.429\n"
     ]
    }
   ],
   "source": [
    "bowl_1v = round(bayes_rule(priorsv, likelihoodsv)[0],3)\n",
    "print(\"The probability that the vanilla cookie I picked came from Bowl 1 is {}\".format(bowl_1v))\n"
   ]
  },
  {
   "cell_type": "markdown",
   "metadata": {},
   "source": [
    "What is the probability that it came from Bowl 2?"
   ]
  },
  {
   "cell_type": "code",
   "execution_count": 23,
   "metadata": {},
   "outputs": [
    {
     "name": "stdout",
     "output_type": "stream",
     "text": [
      "The probability that the vanilla cookie I picked came from Bowl 2 is 0.571\n"
     ]
    }
   ],
   "source": [
    "bowl_2v = round(bayes_rule(priorsv, likelihoodsv)[1],3)\n",
    "print(\"The probability that the vanilla cookie I picked came from Bowl 2 is {}\".format(bowl_2v))\n"
   ]
  },
  {
   "cell_type": "markdown",
   "metadata": {},
   "source": [
    "What if the cookie you had picked was chocolate? What are the probabilities that the chocolate cookie came from Bowl 1 and Bowl 2 respectively?"
   ]
  },
  {
   "cell_type": "code",
   "execution_count": 29,
   "metadata": {},
   "outputs": [
    {
     "data": {
      "text/plain": [
       "array([0.2, 0.8])"
      ]
     },
     "execution_count": 29,
     "metadata": {},
     "output_type": "execute_result"
    }
   ],
   "source": [
    "priorsc = [1 / 2, 1 / 2]\n",
    "likelihoodsc = [10 / 40, 20 / 20]\n",
    "def bayes_rule(priorsc, likehoodsc):\n",
    "    margc = sum(np.multiply(priorsc, likelihoodsc))\n",
    "    postc = np.divide(np.multiply(priorsc, likelihoodsc), margc)\n",
    "    return postc\n",
    "bayes_rule(priorsc, likelihoodsc)\n"
   ]
  },
  {
   "cell_type": "code",
   "execution_count": 30,
   "metadata": {},
   "outputs": [
    {
     "name": "stdout",
     "output_type": "stream",
     "text": [
      "The probability that the chocolate cookie I picked came from Bowl 1 is 0.2\n"
     ]
    }
   ],
   "source": [
    "bowl_1c = round(bayes_rule(priorsc, likelihoodsc)[0],3)\n",
    "print(\"The probability that the chocolate cookie I picked came from Bowl 1 is {}\".format(bowl_1c))\n"
   ]
  },
  {
   "cell_type": "code",
   "execution_count": 31,
   "metadata": {},
   "outputs": [
    {
     "name": "stdout",
     "output_type": "stream",
     "text": [
      "The probability that the chocolate cookie I picked came from Bowl 2 is 0.8\n"
     ]
    }
   ],
   "source": [
    "bowl_2c = round(bayes_rule(priorsc, likelihoodsc)[1],3)\n",
    "print(\"The probability that the chocolate cookie I picked came from Bowl 2 is {}\".format(bowl_2c))\n"
   ]
  },
  {
   "cell_type": "markdown",
   "metadata": {},
   "source": [
    "## 2. Candy Problem\n",
    "\n",
    "Suppose you have two bags of candies:\n",
    "\n",
    "- In Bag 1, the mix of colors is:\n",
    "    - Brown - 30%\n",
    "    - Yellow - 20%\n",
    "    - Red - 20%\n",
    "    - Green - 10%\n",
    "    - Orange - 10%\n",
    "    - Tan - 10%\n",
    "    \n",
    "- In Bag 2, the mix of colors is:\n",
    "    - Blue - 24%\n",
    "    - Green - 20%\n",
    "    - Orange - 16%\n",
    "    - Yellow - 14%\n",
    "    - Red - 13%\n",
    "    - Brown - 13%\n",
    "    \n",
    "Not knowing which bag is which, you randomly draw one candy from each bag. One is yellow and one is green. What is the probability that the yellow one came from the Bag 1?\n",
    "\n",
    "*Hint: For the likelihoods, you will need to multiply the probabilities of drawing yellow from one bag and green from the other bag and vice versa.*"
   ]
  },
  {
   "cell_type": "code",
   "execution_count": 35,
   "metadata": {},
   "outputs": [
    {
     "data": {
      "text/plain": [
       "array([0.74074074, 0.25925926])"
      ]
     },
     "execution_count": 35,
     "metadata": {},
     "output_type": "execute_result"
    }
   ],
   "source": [
    "priorsy = [1 / 2, 1 / 2]\n",
    "likelihoodsy = [(2 / 10)*(2 / 10),(1 / 10)*(14 / 100)]\n",
    "def bayes_rule(priorsy, likehoodsy):\n",
    "    margy = sum(np.multiply(priorsy, likelihoodsy))\n",
    "    posty = np.divide(np.multiply(priorsy, likelihoodsy), margy)\n",
    "    return posty\n",
    "bayes_rule(priorsy, likelihoodsy)\n"
   ]
  },
  {
   "cell_type": "markdown",
   "metadata": {},
   "source": [
    "What is the probability that the yellow candy came from Bag 2?"
   ]
  },
  {
   "cell_type": "code",
   "execution_count": 36,
   "metadata": {},
   "outputs": [
    {
     "name": "stdout",
     "output_type": "stream",
     "text": [
      "The probability that the yellow candy I picked came from Bag 2 is 0.259\n"
     ]
    }
   ],
   "source": [
    "bag_2y = round(bayes_rule(priorsy, likelihoodsy)[1],3)\n",
    "print(\"The probability that the yellow candy I picked came from Bag 2 is {}\".format(bag_2y))\n"
   ]
  },
  {
   "cell_type": "markdown",
   "metadata": {},
   "source": [
    "What are the probabilities that the green one came from Bag 1 and Bag 2 respectively?"
   ]
  },
  {
   "cell_type": "code",
   "execution_count": 37,
   "metadata": {},
   "outputs": [
    {
     "data": {
      "text/plain": [
       "array([0.97222222, 0.02777778])"
      ]
     },
     "execution_count": 37,
     "metadata": {},
     "output_type": "execute_result"
    }
   ],
   "source": [
    "priorsg = [1 / 2, 1 / 2]\n",
    "likelihoodsg = [(1 / 10)*(14 / 100),(2 / 100)*(2 / 100)]\n",
    "def bayes_rule(priorsg, likehoodsg):\n",
    "    margg = sum(np.multiply(priorsg, likelihoodsg))\n",
    "    postg = np.divide(np.multiply(priorsg, likelihoodsg), margg)\n",
    "    return postg\n",
    "bayes_rule(priorsg, likelihoodsg)\n"
   ]
  },
  {
   "cell_type": "code",
   "execution_count": 38,
   "metadata": {},
   "outputs": [
    {
     "name": "stdout",
     "output_type": "stream",
     "text": [
      "The probability that the green candy I picked came from Bag 2 is 0.972\n"
     ]
    }
   ],
   "source": [
    "bag_1g = round(bayes_rule(priorsg, likelihoodsg)[0],3)\n",
    "print(\"The probability that the green candy I picked came from Bag 2 is {}\".format(bag_1g))\n"
   ]
  },
  {
   "cell_type": "code",
   "execution_count": 39,
   "metadata": {},
   "outputs": [
    {
     "name": "stdout",
     "output_type": "stream",
     "text": [
      "The probability that the green candy I picked came from Bag 2 is 0.028\n"
     ]
    }
   ],
   "source": [
    "bag_2g = round(bayes_rule(priorsg, likelihoodsg)[1],3)\n",
    "print(\"The probability that the green candy I picked came from Bag 2 is {}\".format(bag_2g))"
   ]
  },
  {
   "cell_type": "markdown",
   "metadata": {},
   "source": [
    "## 3. Monty Hall Problem\n",
    "\n",
    "Suppose you are a contestant on the popular game show *Let's Make a Deal*. The host of the show (Monty Hall) presents you with three doors - Door A, Door B, and Door C. He tells you that there is a sports car behind one of them and if you choose the correct one, you win the car!\n",
    "\n",
    "You select Door A, but then Monty makes things a little more interesting. He opens Door B to reveal that there is no sports car behind it and asks you if you would like to stick with your choice of Door A or switch your choice to Door C. Given this new information, what are the probabilities of you winning the car if you stick with Door A versus if you switch to Door C?"
   ]
  },
  {
   "cell_type": "code",
   "execution_count": null,
   "metadata": {},
   "outputs": [],
   "source": []
  },
  {
   "cell_type": "markdown",
   "metadata": {},
   "source": [
    "## 4. Bayesian Analysis \n",
    "\n",
    "Suppose you work for a landscaping company, and they want to advertise their service online. They create an ad and sit back waiting for the money to roll in. On the first day, the ad sends 100 visitors to the site and 14 of them sign up for landscaping services. Create a generative model to come up with the posterior distribution and produce a visualization of what the posterior distribution would look like given the observed data."
   ]
  },
  {
   "cell_type": "code",
   "execution_count": null,
   "metadata": {},
   "outputs": [],
   "source": []
  },
  {
   "cell_type": "markdown",
   "metadata": {},
   "source": [
    "Produce a set of descriptive statistics for the posterior distribution."
   ]
  },
  {
   "cell_type": "code",
   "execution_count": null,
   "metadata": {},
   "outputs": [],
   "source": []
  },
  {
   "cell_type": "markdown",
   "metadata": {},
   "source": [
    "What is the 90% credible interval range?"
   ]
  },
  {
   "cell_type": "code",
   "execution_count": null,
   "metadata": {},
   "outputs": [],
   "source": []
  },
  {
   "cell_type": "markdown",
   "metadata": {},
   "source": [
    "What is the Maximum Likelihood Estimate?"
   ]
  },
  {
   "cell_type": "code",
   "execution_count": null,
   "metadata": {},
   "outputs": [],
   "source": []
  }
 ],
 "metadata": {
  "kernelspec": {
   "display_name": "Python 3",
   "language": "python",
   "name": "python3"
  },
  "language_info": {
   "codemirror_mode": {
    "name": "ipython",
    "version": 3
   },
   "file_extension": ".py",
   "mimetype": "text/x-python",
   "name": "python",
   "nbconvert_exporter": "python",
   "pygments_lexer": "ipython3",
   "version": "3.7.3"
  }
 },
 "nbformat": 4,
 "nbformat_minor": 2
}
