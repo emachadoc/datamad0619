{
 "cells": [
  {
   "cell_type": "markdown",
   "metadata": {},
   "source": [
    "# Before your start:\n",
    "- Read the README.md file\n",
    "- Comment as much as you can and use the resources (README.md file)\n",
    "- Happy learning!"
   ]
  },
  {
   "cell_type": "code",
   "execution_count": 13,
   "metadata": {},
   "outputs": [],
   "source": [
    "# Run this code:\n",
    "\n",
    "%matplotlib inline\n",
    "\n",
    "import matplotlib.pyplot as plt\n"
   ]
  },
  {
   "cell_type": "code",
   "execution_count": 14,
   "metadata": {},
   "outputs": [],
   "source": [
    "# Import numpy and pandas:\n",
    "\n",
    "import pandas as pd\n",
    "import numpy as np\n"
   ]
  },
  {
   "cell_type": "markdown",
   "metadata": {},
   "source": [
    "# Challenge 1 - Reading and Standardizing the Data\n",
    "\n",
    "In this challenge we will work with image data and reduce the dimensions of the data to create a 2 dimensional plot. While we have not worked much with image data before, it can be represented as a numpy array where each pixel is assigned a numeric value. In this lesson, we will look at a dataset of cats and a dataset of dogs and see whether reducing them to two dimensions allows us to see if the data is separable. We will start by loading and processing the data. Run the cell below to load the two csv files and convert them into numpy arrays."
   ]
  },
  {
   "cell_type": "code",
   "execution_count": 15,
   "metadata": {},
   "outputs": [],
   "source": [
    "# Run this code\n",
    "\n",
    "cats = np.array(pd.read_csv(\"https://raw.githubusercontent.com/bioramble/pca/master/cat.csv\", header=None))\n",
    "dogs = np.array(pd.read_csv(\"https://raw.githubusercontent.com/bioramble/pca/master/dog.csv\", header=None))\n",
    "\n"
   ]
  },
  {
   "cell_type": "markdown",
   "metadata": {},
   "source": [
    "Next, we'll examine the shape of both the cats and the dogs arrays. Print out both shapes below."
   ]
  },
  {
   "cell_type": "code",
   "execution_count": 16,
   "metadata": {},
   "outputs": [
    {
     "data": {
      "text/plain": [
       "(4096, 80)"
      ]
     },
     "execution_count": 16,
     "metadata": {},
     "output_type": "execute_result"
    }
   ],
   "source": [
    "cats.shape\n"
   ]
  },
  {
   "cell_type": "code",
   "execution_count": 17,
   "metadata": {},
   "outputs": [
    {
     "data": {
      "text/plain": [
       "(4096, 80)"
      ]
     },
     "execution_count": 17,
     "metadata": {},
     "output_type": "execute_result"
    }
   ],
   "source": [
    "dogs.shape\n"
   ]
  },
  {
   "cell_type": "markdown",
   "metadata": {},
   "source": [
    "What this means is that both arrays contain 80 images each (the number of columns). Each image is comprised of 64x64 pixels (so a total of 4096 pixels per image). The images have been flattened such that all 4096 are in a single row.\n",
    "\n",
    "Print out column 0 of the cats array to see what the pixels values look like."
   ]
  },
  {
   "cell_type": "code",
   "execution_count": 18,
   "metadata": {},
   "outputs": [
    {
     "name": "stdout",
     "output_type": "stream",
     "text": [
      "[ 64  23 250 137  55 173  18 134  19  47 109 164  41  78 108 108 247 105\n",
      " 158  54 103   4  23 102 239  72  42  21 168 109 112 177  22 233  15 236\n",
      " 250 137  32   5 178 109  24 107  53 241 226 143   5 136  98 100  89  66\n",
      " 228  92 255  88 230  56 160  69   6  24 195 183 239  35 154 154 122  18\n",
      "  87 106 174  69  28  60 223 101]\n"
     ]
    }
   ],
   "source": [
    "print(cats[0])\n"
   ]
  },
  {
   "cell_type": "markdown",
   "metadata": {},
   "source": [
    "Using `matplotlib` we can plot a single cat or a single dog. We do this by reshaping the vector back to a 64x64 image and then using the `imshow` function.\n",
    "\n",
    "Run the code below to look at the first dog and the first cat."
   ]
  },
  {
   "cell_type": "code",
   "execution_count": 19,
   "metadata": {},
   "outputs": [
    {
     "data": {
      "text/plain": [
       "<matplotlib.image.AxesImage at 0x120f83630>"
      ]
     },
     "execution_count": 19,
     "metadata": {},
     "output_type": "execute_result"
    },
    {
     "data": {
      "image/png": "[encoded data removed]",
      "text/plain": [
       "<Figure size 432x288 with 1 Axes>"
      ]
     },
     "metadata": {
      "needs_background": "light"
     },
     "output_type": "display_data"
    }
   ],
   "source": [
    "# Run this code:\n",
    "\n",
    "fig, ax = plt.subplots()\n",
    "ax.imshow(cats[:,0].reshape(64, 64).T, cmap=plt.cm.bone, interpolation='nearest') \n",
    "\n"
   ]
  },
  {
   "cell_type": "code",
   "execution_count": 20,
   "metadata": {},
   "outputs": [
    {
     "data": {
      "text/plain": [
       "<matplotlib.image.AxesImage at 0x1225403c8>"
      ]
     },
     "execution_count": 20,
     "metadata": {},
     "output_type": "execute_result"
    },
    {
     "data": {
      "image/png": "[encoded data removed]",
      "text/plain": [
       "<Figure size 432x288 with 1 Axes>"
      ]
     },
     "metadata": {
      "needs_background": "light"
     },
     "output_type": "display_data"
    }
   ],
   "source": [
    "# Run this code:\n",
    "\n",
    "fig, ax = plt.subplots()\n",
    "ax.imshow(dogs[:,0].reshape(64, 64).T, cmap=plt.cm.bone, interpolation='nearest') \n",
    "\n"
   ]
  },
  {
   "cell_type": "markdown",
   "metadata": {},
   "source": [
    "Next, we would like to create a standardization function. This function will find the mean and standard deviation of each image. We subtract the mean from each pixel and divide each pixel by the standard deviation. Write the function below.\n",
    "\n",
    "Hint: To find the mean and standard deviation of each image, use `numpy`'s version of mean and stadnard deviation and use `axis=0`."
   ]
  },
  {
   "cell_type": "code",
   "execution_count": 59,
   "metadata": {},
   "outputs": [],
   "source": [
    "from statistics import stdev\n",
    "\n",
    "def standardize(sample_input):\n",
    "    #This function takes as input a numpy array and returns a stadardized numpy array of the same dimensions.\n",
    "    #Sample input: np.array([[1,2,3],[4,5,6]])\n",
    "    #Sample output: np.array([[-1,-1,-1],[1,1,1]])\n",
    "    \n",
    "    sample = sample_input.T\n",
    "    col_means = sample.mean(axis=0)\n",
    "    sd = np.std(sample, axis=0)\n",
    "    sample_output = (sample - col_means) / sd\n",
    "    return print(sample_output)\n",
    "    "
   ]
  },
  {
   "cell_type": "code",
   "execution_count": 60,
   "metadata": {},
   "outputs": [
    {
     "name": "stdout",
     "output_type": "stream",
     "text": [
      "[[-0.63690867 -0.6147912  -0.58264372 ... -0.70824473 -0.71264054\n",
      "  -0.74441224]\n",
      " [-1.185939   -1.19709417 -1.19013954 ... -1.17405592 -1.29700578\n",
      "  -1.47598676]\n",
      " [ 1.85381432  2.02687588  1.98540679 ...  1.83254355  1.68183168\n",
      "   1.83016731]\n",
      " ...\n",
      " [-0.6904726  -0.81362636 -0.59645044 ... -0.12950962  0.05701124\n",
      "  -0.13945639]\n",
      " [ 1.49225776  1.65761059  1.64023871 ...  0.92915216  0.96919114\n",
      "   0.88756168]\n",
      " [-0.14144227 -0.00408322 -0.00276134 ... -0.00247021 -0.32781465\n",
      "  -0.01283773]]\n"
     ]
    }
   ],
   "source": [
    "standardize(cats)\n"
   ]
  },
  {
   "cell_type": "code",
   "execution_count": 61,
   "metadata": {},
   "outputs": [
    {
     "name": "stdout",
     "output_type": "stream",
     "text": [
      "[[ 1.77530603  1.82148628  1.83601615 ... -0.06809198 -0.05340239\n",
      "  -0.05221503]\n",
      " [ 0.51050886  0.43355503  0.16215527 ... -0.00773344  0.30890361\n",
      "   0.30970867]\n",
      " [ 0.45610898  0.60010678  0.48297861 ...  0.15825255  0.00698194\n",
      "   0.00810558]\n",
      " ...\n",
      " [-1.18948734 -1.14868661 -1.20483111 ... -1.47142802 -1.4120499\n",
      "  -1.45466939]\n",
      " [-0.86308807 -0.32980716 -0.32605415 ...  0.88255502  0.55044094\n",
      "   0.55099114]\n",
      " [ 1.40810685  1.47450347  1.43149977 ...  0.92782392  1.00332344\n",
      "   1.01847593]]\n"
     ]
    }
   ],
   "source": [
    "standardize(dogs)"
   ]
  },
  {
   "cell_type": "markdown",
   "metadata": {},
   "source": [
    "Now, use the `np.concatenate` function to combine the cats and dogs arrays. Use `axis=1` to combine the two correctly. Make sure to put dogs first."
   ]
  },
  {
   "cell_type": "code",
   "execution_count": 62,
   "metadata": {},
   "outputs": [
    {
     "data": {
      "text/plain": [
       "array([[224, 131, 127, ...,  60, 223, 101],\n",
       "       [224, 124, 136, ...,  50, 224, 107],\n",
       "       [224, 104, 127, ...,  63, 225, 106],\n",
       "       ...,\n",
       "       [100, 104, 115, ..., 105, 180, 114],\n",
       "       [100, 124, 104, ..., 118, 182,  91],\n",
       "       [100, 124, 104, ..., 104, 177, 113]])"
      ]
     },
     "execution_count": 62,
     "metadata": {},
     "output_type": "execute_result"
    }
   ],
   "source": [
    "pets = np.concatenate((dogs, cats), axis=1)\n",
    "pets\n"
   ]
  },
  {
   "cell_type": "markdown",
   "metadata": {},
   "source": [
    "Standardize the concatenated array below."
   ]
  },
  {
   "cell_type": "code",
   "execution_count": 63,
   "metadata": {},
   "outputs": [
    {
     "name": "stdout",
     "output_type": "stream",
     "text": [
      "[[ 2.37662907 -0.30753004  0.93254857 ... -1.80817356  1.42293481\n",
      "  -0.20363951]\n",
      " [ 2.37662907 -0.40500299  1.15681724 ... -2.06459792  1.44036713\n",
      "  -0.05437635]\n",
      " [ 2.37662907 -0.68349716  0.93254857 ... -1.73124626  1.45779946\n",
      "  -0.07925354]\n",
      " ...\n",
      " [ 0.22755315 -0.68349716  0.63352369 ... -0.65426398  0.67334483\n",
      "   0.11976401]\n",
      " [ 0.22755315 -0.40500299  0.35941754 ... -0.32091232  0.70820948\n",
      "  -0.45241144]\n",
      " [ 0.22755315 -0.40500299  0.35941754 ... -0.67990641  0.62104786\n",
      "   0.09488681]]\n"
     ]
    }
   ],
   "source": [
    "from sklearn.preprocessing import StandardScaler\n",
    "\n",
    "scaler = StandardScaler()\n",
    "print(scaler.fit_transform(pets))\n"
   ]
  },
  {
   "cell_type": "markdown",
   "metadata": {},
   "source": [
    "# Challenge 2 - Using PCA\n",
    "\n",
    "Now that we have created a standardized matrix of cats and dogs, we'll find the two most important components in the data.\n",
    "\n",
    "Load the `PCA` function from `statsmodels` (read about this function [here](https://www.statsmodels.org/dev/generated/statsmodels.multivariate.pca.PCA.html)) and apply the function to our standarized data. Create a PCA model with two components."
   ]
  },
  {
   "cell_type": "code",
   "execution_count": 69,
   "metadata": {},
   "outputs": [
    {
     "data": {
      "image/png": "[encoded data removed]",
      "text/plain": [
       "<Figure size 432x288 with 1 Axes>"
      ]
     },
     "metadata": {
      "needs_background": "light"
     },
     "output_type": "display_data"
    }
   ],
   "source": [
    "from sklearn.decomposition import PCA\n",
    "import matplotlib.pyplot as plt\n",
    "%matplotlib inline\n",
    "\n",
    "pca = PCA()\n",
    "pca.fit(pets)\n",
    "pca.explained_variance_ratio_\n",
    "plt.figure()\n",
    "plt.plot(np.cumsum(pca.explained_variance_ratio_))\n",
    "plt.xlabel('Number of Components')\n",
    "plt.ylabel('% of Variance')\n",
    "plt.ylim([0,1])\n",
    "plt.show();"
   ]
  },
  {
   "cell_type": "code",
   "execution_count": 70,
   "metadata": {},
   "outputs": [
    {
     "data": {
      "text/plain": [
       "array([ 18.93171243,  31.39761228,  37.55235372,  43.1986916 ,\n",
       "        48.17138065,  51.46838819,  54.37440867,  56.94876522,\n",
       "        59.12067289,  61.09915043,  62.84675083,  64.3072569 ,\n",
       "        65.70156358,  67.01469661,  68.29597309,  69.44879597,\n",
       "        70.53632481,  71.60369787,  72.61875961,  73.49932533,\n",
       "        74.36945766,  75.14188011,  75.89333539,  76.61330061,\n",
       "        77.29594789,  77.93994287,  78.57342293,  79.18481939,\n",
       "        79.77777698,  80.3274009 ,  80.8737482 ,  81.40363193,\n",
       "        81.91471197,  82.3773071 ,  82.83085869,  83.26777471,\n",
       "        83.69380682,  84.09839002,  84.49221892,  84.87241787,\n",
       "        85.24424789,  85.59486028,  85.94224578,  86.27273312,\n",
       "        86.59472615,  86.90732321,  87.21391205,  87.51469061,\n",
       "        87.80745432,  88.09366166,  88.37310713,  88.64180342,\n",
       "        88.90512894,  89.16252653,  89.4091779 ,  89.64878862,\n",
       "        89.8823023 ,  90.11015067,  90.33792419,  90.56238574,\n",
       "        90.78194113,  90.99868187,  91.20779552,  91.41391269,\n",
       "        91.61448518,  91.80883015,  91.99908965,  92.18145227,\n",
       "        92.36225597,  92.5388581 ,  92.7120854 ,  92.88139286,\n",
       "        93.04662458,  93.21106127,  93.37316772,  93.53126968,\n",
       "        93.68404589,  93.83260929,  93.98064253,  94.12763479,\n",
       "        94.26842117,  94.40816159,  94.54548974,  94.68073478,\n",
       "        94.81405964,  94.94487958,  95.07480688,  95.19967368,\n",
       "        95.32029589,  95.43994724,  95.55766049,  95.67191246,\n",
       "        95.78417723,  95.89456397,  96.00306737,  96.10953619,\n",
       "        96.21384085,  96.31515754,  96.41404344,  96.51214015,\n",
       "        96.60871845,  96.70398054,  96.79714761,  96.88991469,\n",
       "        96.98179727,  97.07170585,  97.15962526,  97.24592179,\n",
       "        97.33057121,  97.41437197,  97.49590123,  97.57588981,\n",
       "        97.65430041,  97.73093664,  97.80582432,  97.87985359,\n",
       "        97.95288058,  98.02452918,  98.09472946,  98.16329801,\n",
       "        98.23116591,  98.29795251,  98.3633521 ,  98.42791181,\n",
       "        98.49127637,  98.55367435,  98.61395049,  98.67241463,\n",
       "        98.73021889,  98.78614835,  98.84117834,  98.89565752,\n",
       "        98.94927719,  99.00123833,  99.0523114 ,  99.10237714,\n",
       "        99.15068337,  99.19865329,  99.24575773,  99.29241752,\n",
       "        99.33841477,  99.38308778,  99.42736795,  99.47130757,\n",
       "        99.51248691,  99.55217974,  99.59116002,  99.62974084,\n",
       "        99.66624546,  99.70181773,  99.73658289,  99.77058363,\n",
       "        99.80308783,  99.83469575,  99.86512548,  99.89475906,\n",
       "        99.92334514,  99.95074884,  99.97676359, 100.        ])"
      ]
     },
     "execution_count": 70,
     "metadata": {},
     "output_type": "execute_result"
    }
   ],
   "source": [
    "np.cumsum(pca.explained_variance_ratio_) * 100"
   ]
  },
  {
   "cell_type": "code",
   "execution_count": 75,
   "metadata": {},
   "outputs": [
    {
     "data": {
      "text/html": [
       "<div>\n",
       "<style scoped>\n",
       "    .dataframe tbody tr th:only-of-type {\n",
       "        vertical-align: middle;\n",
       "    }\n",
       "\n",
       "    .dataframe tbody tr th {\n",
       "        vertical-align: top;\n",
       "    }\n",
       "\n",
       "    .dataframe thead th {\n",
       "        text-align: right;\n",
       "    }\n",
       "</style>\n",
       "<table border=\"1\" class=\"dataframe\">\n",
       "  <thead>\n",
       "    <tr style=\"text-align: right;\">\n",
       "      <th></th>\n",
       "      <th>0</th>\n",
       "      <th>1</th>\n",
       "      <th>2</th>\n",
       "      <th>3</th>\n",
       "      <th>4</th>\n",
       "      <th>5</th>\n",
       "      <th>6</th>\n",
       "      <th>7</th>\n",
       "      <th>8</th>\n",
       "      <th>9</th>\n",
       "      <th>...</th>\n",
       "      <th>130</th>\n",
       "      <th>131</th>\n",
       "      <th>132</th>\n",
       "      <th>133</th>\n",
       "      <th>134</th>\n",
       "      <th>135</th>\n",
       "      <th>136</th>\n",
       "      <th>137</th>\n",
       "      <th>138</th>\n",
       "      <th>139</th>\n",
       "    </tr>\n",
       "  </thead>\n",
       "  <tbody>\n",
       "    <tr>\n",
       "      <th>0</th>\n",
       "      <td>581.083429</td>\n",
       "      <td>629.095903</td>\n",
       "      <td>-49.469303</td>\n",
       "      <td>54.901566</td>\n",
       "      <td>-135.001379</td>\n",
       "      <td>-39.258193</td>\n",
       "      <td>9.078534</td>\n",
       "      <td>-67.260348</td>\n",
       "      <td>-84.331700</td>\n",
       "      <td>227.535505</td>\n",
       "      <td>...</td>\n",
       "      <td>-28.512239</td>\n",
       "      <td>0.821281</td>\n",
       "      <td>-15.517661</td>\n",
       "      <td>0.740497</td>\n",
       "      <td>-20.090815</td>\n",
       "      <td>4.672470</td>\n",
       "      <td>-29.865386</td>\n",
       "      <td>-24.989511</td>\n",
       "      <td>-5.391128</td>\n",
       "      <td>24.037506</td>\n",
       "    </tr>\n",
       "    <tr>\n",
       "      <th>1</th>\n",
       "      <td>603.875014</td>\n",
       "      <td>602.643892</td>\n",
       "      <td>-53.827327</td>\n",
       "      <td>-12.954683</td>\n",
       "      <td>-109.944979</td>\n",
       "      <td>-46.330709</td>\n",
       "      <td>1.071341</td>\n",
       "      <td>-76.116043</td>\n",
       "      <td>-45.905445</td>\n",
       "      <td>245.658158</td>\n",
       "      <td>...</td>\n",
       "      <td>-5.837568</td>\n",
       "      <td>1.698704</td>\n",
       "      <td>-9.475596</td>\n",
       "      <td>-21.002353</td>\n",
       "      <td>0.385218</td>\n",
       "      <td>-6.477613</td>\n",
       "      <td>-32.616958</td>\n",
       "      <td>5.612346</td>\n",
       "      <td>-12.711526</td>\n",
       "      <td>11.920673</td>\n",
       "    </tr>\n",
       "    <tr>\n",
       "      <th>2</th>\n",
       "      <td>596.959447</td>\n",
       "      <td>610.461066</td>\n",
       "      <td>-61.516113</td>\n",
       "      <td>-48.751609</td>\n",
       "      <td>-106.798845</td>\n",
       "      <td>-35.243915</td>\n",
       "      <td>-6.196984</td>\n",
       "      <td>-88.764992</td>\n",
       "      <td>-42.340383</td>\n",
       "      <td>273.814957</td>\n",
       "      <td>...</td>\n",
       "      <td>7.512987</td>\n",
       "      <td>-22.563686</td>\n",
       "      <td>-6.432693</td>\n",
       "      <td>-16.049009</td>\n",
       "      <td>11.559439</td>\n",
       "      <td>-19.377114</td>\n",
       "      <td>-33.652704</td>\n",
       "      <td>22.588011</td>\n",
       "      <td>-10.280684</td>\n",
       "      <td>13.901999</td>\n",
       "    </tr>\n",
       "    <tr>\n",
       "      <th>3</th>\n",
       "      <td>597.711534</td>\n",
       "      <td>615.284047</td>\n",
       "      <td>-39.726930</td>\n",
       "      <td>-57.556910</td>\n",
       "      <td>-96.787577</td>\n",
       "      <td>-34.871082</td>\n",
       "      <td>-14.538839</td>\n",
       "      <td>-100.635542</td>\n",
       "      <td>-58.993682</td>\n",
       "      <td>269.444937</td>\n",
       "      <td>...</td>\n",
       "      <td>-5.688789</td>\n",
       "      <td>-31.091430</td>\n",
       "      <td>-11.786612</td>\n",
       "      <td>10.146014</td>\n",
       "      <td>8.982850</td>\n",
       "      <td>-15.218518</td>\n",
       "      <td>-30.103646</td>\n",
       "      <td>15.766028</td>\n",
       "      <td>-6.704974</td>\n",
       "      <td>21.646913</td>\n",
       "    </tr>\n",
       "    <tr>\n",
       "      <th>4</th>\n",
       "      <td>609.861494</td>\n",
       "      <td>601.706933</td>\n",
       "      <td>-41.049125</td>\n",
       "      <td>-41.076041</td>\n",
       "      <td>-83.459529</td>\n",
       "      <td>-48.546296</td>\n",
       "      <td>-3.292914</td>\n",
       "      <td>-90.490142</td>\n",
       "      <td>-71.787331</td>\n",
       "      <td>263.725838</td>\n",
       "      <td>...</td>\n",
       "      <td>13.769312</td>\n",
       "      <td>-43.331062</td>\n",
       "      <td>-1.207818</td>\n",
       "      <td>16.109628</td>\n",
       "      <td>-3.448149</td>\n",
       "      <td>9.723386</td>\n",
       "      <td>-12.909751</td>\n",
       "      <td>15.463546</td>\n",
       "      <td>-11.627685</td>\n",
       "      <td>21.544986</td>\n",
       "    </tr>\n",
       "  </tbody>\n",
       "</table>\n",
       "<p>5 rows × 140 columns</p>\n",
       "</div>"
      ],
      "text/plain": [
       "          0           1          2          3           4          5    \\\n",
       "0  581.083429  629.095903 -49.469303  54.901566 -135.001379 -39.258193   \n",
       "1  603.875014  602.643892 -53.827327 -12.954683 -109.944979 -46.330709   \n",
       "2  596.959447  610.461066 -61.516113 -48.751609 -106.798845 -35.243915   \n",
       "3  597.711534  615.284047 -39.726930 -57.556910  -96.787577 -34.871082   \n",
       "4  609.861494  601.706933 -41.049125 -41.076041  -83.459529 -48.546296   \n",
       "\n",
       "         6           7          8           9    ...        130        131  \\\n",
       "0   9.078534  -67.260348 -84.331700  227.535505  ... -28.512239   0.821281   \n",
       "1   1.071341  -76.116043 -45.905445  245.658158  ...  -5.837568   1.698704   \n",
       "2  -6.196984  -88.764992 -42.340383  273.814957  ...   7.512987 -22.563686   \n",
       "3 -14.538839 -100.635542 -58.993682  269.444937  ...  -5.688789 -31.091430   \n",
       "4  -3.292914  -90.490142 -71.787331  263.725838  ...  13.769312 -43.331062   \n",
       "\n",
       "         132        133        134        135        136        137  \\\n",
       "0 -15.517661   0.740497 -20.090815   4.672470 -29.865386 -24.989511   \n",
       "1  -9.475596 -21.002353   0.385218  -6.477613 -32.616958   5.612346   \n",
       "2  -6.432693 -16.049009  11.559439 -19.377114 -33.652704  22.588011   \n",
       "3 -11.786612  10.146014   8.982850 -15.218518 -30.103646  15.766028   \n",
       "4  -1.207818  16.109628  -3.448149   9.723386 -12.909751  15.463546   \n",
       "\n",
       "         138        139  \n",
       "0  -5.391128  24.037506  \n",
       "1 -12.711526  11.920673  \n",
       "2 -10.280684  13.901999  \n",
       "3  -6.704974  21.646913  \n",
       "4 -11.627685  21.544986  \n",
       "\n",
       "[5 rows x 140 columns]"
      ]
     },
     "execution_count": 75,
     "metadata": {},
     "output_type": "execute_result"
    }
   ],
   "source": [
    "pca = PCA(n_components=140)\n",
    "pet = pd.DataFrame(pca.fit_transform(pets)).head()\n",
    "pet"
   ]
  },
  {
   "cell_type": "markdown",
   "metadata": {},
   "source": [
    "Use `numpy` to find to transpose the standardized pet array. This will help us compute the projection."
   ]
  },
  {
   "cell_type": "code",
   "execution_count": 77,
   "metadata": {},
   "outputs": [
    {
     "data": {
      "text/html": [
       "<div>\n",
       "<style scoped>\n",
       "    .dataframe tbody tr th:only-of-type {\n",
       "        vertical-align: middle;\n",
       "    }\n",
       "\n",
       "    .dataframe tbody tr th {\n",
       "        vertical-align: top;\n",
       "    }\n",
       "\n",
       "    .dataframe thead th {\n",
       "        text-align: right;\n",
       "    }\n",
       "</style>\n",
       "<table border=\"1\" class=\"dataframe\">\n",
       "  <thead>\n",
       "    <tr style=\"text-align: right;\">\n",
       "      <th></th>\n",
       "      <th>0</th>\n",
       "      <th>1</th>\n",
       "      <th>2</th>\n",
       "      <th>3</th>\n",
       "      <th>4</th>\n",
       "    </tr>\n",
       "  </thead>\n",
       "  <tbody>\n",
       "    <tr>\n",
       "      <th>0</th>\n",
       "      <td>581.083429</td>\n",
       "      <td>603.875014</td>\n",
       "      <td>596.959447</td>\n",
       "      <td>597.711534</td>\n",
       "      <td>609.861494</td>\n",
       "    </tr>\n",
       "    <tr>\n",
       "      <th>1</th>\n",
       "      <td>629.095903</td>\n",
       "      <td>602.643892</td>\n",
       "      <td>610.461066</td>\n",
       "      <td>615.284047</td>\n",
       "      <td>601.706933</td>\n",
       "    </tr>\n",
       "    <tr>\n",
       "      <th>2</th>\n",
       "      <td>-49.469303</td>\n",
       "      <td>-53.827327</td>\n",
       "      <td>-61.516113</td>\n",
       "      <td>-39.726930</td>\n",
       "      <td>-41.049125</td>\n",
       "    </tr>\n",
       "    <tr>\n",
       "      <th>3</th>\n",
       "      <td>54.901566</td>\n",
       "      <td>-12.954683</td>\n",
       "      <td>-48.751609</td>\n",
       "      <td>-57.556910</td>\n",
       "      <td>-41.076041</td>\n",
       "    </tr>\n",
       "    <tr>\n",
       "      <th>4</th>\n",
       "      <td>-135.001379</td>\n",
       "      <td>-109.944979</td>\n",
       "      <td>-106.798845</td>\n",
       "      <td>-96.787577</td>\n",
       "      <td>-83.459529</td>\n",
       "    </tr>\n",
       "  </tbody>\n",
       "</table>\n",
       "</div>"
      ],
      "text/plain": [
       "            0           1           2           3           4\n",
       "0  581.083429  603.875014  596.959447  597.711534  609.861494\n",
       "1  629.095903  602.643892  610.461066  615.284047  601.706933\n",
       "2  -49.469303  -53.827327  -61.516113  -39.726930  -41.049125\n",
       "3   54.901566  -12.954683  -48.751609  -57.556910  -41.076041\n",
       "4 -135.001379 -109.944979 -106.798845  -96.787577  -83.459529"
      ]
     },
     "execution_count": 77,
     "metadata": {},
     "output_type": "execute_result"
    }
   ],
   "source": [
    "pet_t = pet.T\n",
    "pet_t.head()\n"
   ]
  },
  {
   "cell_type": "markdown",
   "metadata": {},
   "source": [
    "Find the dot product of the transposed standardized pet matrix and the `factors` of the `PCA` model found above. This will be the projection onto 2 dimensions. This means that each cat and dog image will now only have two columns instead of 4096."
   ]
  },
  {
   "cell_type": "code",
   "execution_count": null,
   "metadata": {},
   "outputs": [],
   "source": [
    "# Your code here:\n",
    "\n"
   ]
  },
  {
   "cell_type": "markdown",
   "metadata": {},
   "source": [
    "# Challenge 3 - Plotting the Data\n",
    "\n",
    "Now that we have reduced our cats and dogs arrays, we can easily plot the data in a way that the human eye can understand. We can look at this plot to see whether there are differences between the cat and dog images. \n",
    "\n",
    "In the cell below, turn the two dimensional projection into a pandas dataframe and name the columns `pc1`, and `pc2` respectively."
   ]
  },
  {
   "cell_type": "code",
   "execution_count": null,
   "metadata": {},
   "outputs": [],
   "source": [
    "# Your code here:\n",
    "\n"
   ]
  },
  {
   "cell_type": "markdown",
   "metadata": {},
   "source": [
    "Create a labels list. This list will be of size 160. The first 80 elements in the list will be the word `blue`, and the last 80 elements will be `red`. This will ensure that all dog observations will be colored in blue and all cats will be colored in red. Name this list `colors`."
   ]
  },
  {
   "cell_type": "code",
   "execution_count": null,
   "metadata": {},
   "outputs": [],
   "source": [
    "# Your code here:\n",
    "\n"
   ]
  },
  {
   "cell_type": "markdown",
   "metadata": {},
   "source": [
    "Create a scatter plot of `pc1` and `pc2` below. Use the `colors` list above to color the observations by setting `c=colors`."
   ]
  },
  {
   "cell_type": "code",
   "execution_count": null,
   "metadata": {},
   "outputs": [],
   "source": [
    "# Your code here:\n",
    "\n"
   ]
  },
  {
   "cell_type": "markdown",
   "metadata": {},
   "source": [
    "Do you see a clear separation between cats and dogs? Write your answer below."
   ]
  },
  {
   "cell_type": "code",
   "execution_count": null,
   "metadata": {},
   "outputs": [],
   "source": [
    "# Your conclusions here:\n",
    "\n"
   ]
  },
  {
   "cell_type": "code",
   "execution_count": null,
   "metadata": {},
   "outputs": [],
   "source": []
  }
 ],
 "metadata": {
  "kernelspec": {
   "display_name": "Python 3",
   "language": "python",
   "name": "python3"
  },
  "language_info": {
   "codemirror_mode": {
    "name": "ipython",
    "version": 3
   },
   "file_extension": ".py",
   "mimetype": "text/x-python",
   "name": "python",
   "nbconvert_exporter": "python",
   "pygments_lexer": "ipython3",
   "version": "3.7.3"
  }
 },
 "nbformat": 4,
 "nbformat_minor": 2
}
